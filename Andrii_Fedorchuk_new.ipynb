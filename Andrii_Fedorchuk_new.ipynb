{
  "nbformat": 4,
  "nbformat_minor": 0,
  "metadata": {
    "colab": {
      "name": "Main_project.ipynb",
      "provenance": [],
      "include_colab_link": true
    },
    "kernelspec": {
      "name": "python3",
      "display_name": "Python 3"
    }
  },
  "cells": [
    {
      "cell_type": "markdown",
      "metadata": {
        "id": "view-in-github",
        "colab_type": "text"
      },
      "source": [
        "<a href=\"https://colab.research.google.com/github/AndriiFedorchuk/Machine-learning-course/blob/master/Andrii_Fedorchuk_new.ipynb\" target=\"_parent\"><img src=\"https://colab.research.google.com/assets/colab-badge.svg\" alt=\"Open In Colab\"/></a>"
      ]
    },
    {
      "cell_type": "markdown",
      "metadata": {
        "id": "qImwF8-qzoFL"
      },
      "source": [
        "# Main assumptions\n",
        "\n",
        "The purpose of this project is to train the neural network, which, based on the hobby and the interests of the person, will guess its gender.\n",
        "\n",
        "It is worth saying that the author of the project does NOT believe that certain interests and hobbies are inherent only in men or only women, just as he does not support the view that certain hobbies are pure \"male\" or \"female\".\n",
        "\n",
        "The author also respects people's right to self-identification, including gender one. The division of people into two genders was chosen only due to the fact, that the corresponding division was in the data set from which the author took the main data.\n",
        "\n",
        "The author of the project only believes that in 2020, there are still some factors that encourage people to choose their interests in such a way that there is a statistically significant difference between the interests of genders. These factors include, but are not limited to:\n",
        "- traditional education\n",
        "- the influence of people with traditional views\n",
        "- society's expectation that a person will behave according to his or her gender role\n",
        "- the effect of hormones (in particular testosterone stimulates interest in competitiveness and cruelty)\n",
        "- etc.\n",
        "\n",
        "Based on all of the above, the author believes that in 2020 it is impossible to guess the gender of a person with 100% accuracy, based only on its interests and hobbies, but thinks that it is quite possible to expect a guessing accuracy at the order of 70-85%."
      ]
    },
    {
      "cell_type": "markdown",
      "metadata": {
        "id": "YJGTgLYuzq_d"
      },
      "source": [
        "# Data importing\n",
        "\n",
        "To begin with, we import the basic tools and the main file. The file is in .swc format and was manually created by the author based on an open-source data set.\n",
        "\n",
        "[https://www.kaggle.com/miroslavsabo/young-people-survey#columns.csv](https://www.kaggle.com/miroslavsabo/young-people-survey#columns.csv)\n",
        "\n",
        "The number of parameters was reduced from 150 to 33, of which 32 are hobbies and interests of the person, and 1 - its gender.\n",
        "\n",
        "In order to simplify my task I marked genders with numbers:\n",
        "- 0 - male\n",
        "- 1 - female"
      ]
    },
    {
      "cell_type": "code",
      "metadata": {
        "id": "zkfOrKnpovMa",
        "outputId": "5122120e-e2c0-41ea-8246-c67fb87c9754",
        "colab": {
          "base_uri": "https://localhost:8080/",
          "height": 491
        }
      },
      "source": [
        "from __future__ import absolute_import, division, print_function, unicode_literals\n",
        "\n",
        "import numpy as np\n",
        "import pandas as pd\n",
        "from sklearn.model_selection import train_test_split\n",
        "\n",
        "# original data\n",
        "#https://raw.githubusercontent.com/AndriiFedorchuk/Andrii/master/responses.csv\n",
        "\n",
        "# prepared data\n",
        "URL = 'https://raw.githubusercontent.com/AndriiFedorchuk/Andrii/master/main_fa.csv'    \n",
        "dataset = pd.read_csv(URL)                                                             \n",
        "dataset.head(10)                                                                      "
      ],
      "execution_count": 3,
      "outputs": [
        {
          "output_type": "execute_result",
          "data": {
            "text/plain": [
              "   History  Psychology  Politics  Mathematics  Physics  Internet  PC  \\\n",
              "0        1           5         1            3        3         5   3   \n",
              "1        1           3         4            5        2         4   4   \n",
              "2        1           2         1            5        2         4   2   \n",
              "3        4           4         5            4        1         3   1   \n",
              "4        3           2         3            2        2         2   2   \n",
              "5        5           3         4            2        3         4   4   \n",
              "6        3           3         1            1        1         2   1   \n",
              "7        5           2         3            1        1         5   4   \n",
              "8        3           2         1            1        1         1   1   \n",
              "9        3           2         3            3        1         5   1   \n",
              "\n",
              "   Economy Management  Biology  Chemistry  ...  Active sport  Gardening  \\\n",
              "0                   5        3          3  ...             5          5   \n",
              "1                   5        1          1  ...             1          1   \n",
              "2                   4        1          1  ...             2          1   \n",
              "3                   2        3          3  ...             1          1   \n",
              "4                   2        3          3  ...             1          4   \n",
              "5                   1        4          4  ...             4          2   \n",
              "6                   3        5          5  ...             3          3   \n",
              "7                   1        2          2  ...             5          1   \n",
              "8                   1        3          1  ...             1          1   \n",
              "9                   4        2          1  ...             4          1   \n",
              "\n",
              "   Celebrities  Shopping  Science and technology  Theatre  Fun with friends  \\\n",
              "0            1         4                       4        2                 5   \n",
              "1            2         3                       3        2                 4   \n",
              "2            1         4                       2        5                 5   \n",
              "3            2         4                       3        1                 2   \n",
              "4            3         3                       3        2                 4   \n",
              "5            1         2                       3        1                 3   \n",
              "6            1         3                       4        3                 5   \n",
              "7            3         3                       2        2                 4   \n",
              "8            5         2                       1        5                 4   \n",
              "9            2         4                       3        5                 5   \n",
              "\n",
              "   Adrenaline sports  Pets  Gender  \n",
              "0                  4     4       1  \n",
              "1                  2     5       1  \n",
              "2                  5     5       1  \n",
              "3                  1     1       1  \n",
              "4                  2     1       1  \n",
              "5                  3     2       0  \n",
              "6                  1     5       1  \n",
              "7                  2     5       0  \n",
              "8                  1     1       1  \n",
              "9                  2     2       1  \n",
              "\n",
              "[10 rows x 33 columns]"
            ],
            "text/html": [
              "\n",
              "  <div id=\"df-7a780f81-4004-49f8-b486-4fd6c1072bdd\">\n",
              "    <div class=\"colab-df-container\">\n",
              "      <div>\n",
              "<style scoped>\n",
              "    .dataframe tbody tr th:only-of-type {\n",
              "        vertical-align: middle;\n",
              "    }\n",
              "\n",
              "    .dataframe tbody tr th {\n",
              "        vertical-align: top;\n",
              "    }\n",
              "\n",
              "    .dataframe thead th {\n",
              "        text-align: right;\n",
              "    }\n",
              "</style>\n",
              "<table border=\"1\" class=\"dataframe\">\n",
              "  <thead>\n",
              "    <tr style=\"text-align: right;\">\n",
              "      <th></th>\n",
              "      <th>History</th>\n",
              "      <th>Psychology</th>\n",
              "      <th>Politics</th>\n",
              "      <th>Mathematics</th>\n",
              "      <th>Physics</th>\n",
              "      <th>Internet</th>\n",
              "      <th>PC</th>\n",
              "      <th>Economy Management</th>\n",
              "      <th>Biology</th>\n",
              "      <th>Chemistry</th>\n",
              "      <th>...</th>\n",
              "      <th>Active sport</th>\n",
              "      <th>Gardening</th>\n",
              "      <th>Celebrities</th>\n",
              "      <th>Shopping</th>\n",
              "      <th>Science and technology</th>\n",
              "      <th>Theatre</th>\n",
              "      <th>Fun with friends</th>\n",
              "      <th>Adrenaline sports</th>\n",
              "      <th>Pets</th>\n",
              "      <th>Gender</th>\n",
              "    </tr>\n",
              "  </thead>\n",
              "  <tbody>\n",
              "    <tr>\n",
              "      <th>0</th>\n",
              "      <td>1</td>\n",
              "      <td>5</td>\n",
              "      <td>1</td>\n",
              "      <td>3</td>\n",
              "      <td>3</td>\n",
              "      <td>5</td>\n",
              "      <td>3</td>\n",
              "      <td>5</td>\n",
              "      <td>3</td>\n",
              "      <td>3</td>\n",
              "      <td>...</td>\n",
              "      <td>5</td>\n",
              "      <td>5</td>\n",
              "      <td>1</td>\n",
              "      <td>4</td>\n",
              "      <td>4</td>\n",
              "      <td>2</td>\n",
              "      <td>5</td>\n",
              "      <td>4</td>\n",
              "      <td>4</td>\n",
              "      <td>1</td>\n",
              "    </tr>\n",
              "    <tr>\n",
              "      <th>1</th>\n",
              "      <td>1</td>\n",
              "      <td>3</td>\n",
              "      <td>4</td>\n",
              "      <td>5</td>\n",
              "      <td>2</td>\n",
              "      <td>4</td>\n",
              "      <td>4</td>\n",
              "      <td>5</td>\n",
              "      <td>1</td>\n",
              "      <td>1</td>\n",
              "      <td>...</td>\n",
              "      <td>1</td>\n",
              "      <td>1</td>\n",
              "      <td>2</td>\n",
              "      <td>3</td>\n",
              "      <td>3</td>\n",
              "      <td>2</td>\n",
              "      <td>4</td>\n",
              "      <td>2</td>\n",
              "      <td>5</td>\n",
              "      <td>1</td>\n",
              "    </tr>\n",
              "    <tr>\n",
              "      <th>2</th>\n",
              "      <td>1</td>\n",
              "      <td>2</td>\n",
              "      <td>1</td>\n",
              "      <td>5</td>\n",
              "      <td>2</td>\n",
              "      <td>4</td>\n",
              "      <td>2</td>\n",
              "      <td>4</td>\n",
              "      <td>1</td>\n",
              "      <td>1</td>\n",
              "      <td>...</td>\n",
              "      <td>2</td>\n",
              "      <td>1</td>\n",
              "      <td>1</td>\n",
              "      <td>4</td>\n",
              "      <td>2</td>\n",
              "      <td>5</td>\n",
              "      <td>5</td>\n",
              "      <td>5</td>\n",
              "      <td>5</td>\n",
              "      <td>1</td>\n",
              "    </tr>\n",
              "    <tr>\n",
              "      <th>3</th>\n",
              "      <td>4</td>\n",
              "      <td>4</td>\n",
              "      <td>5</td>\n",
              "      <td>4</td>\n",
              "      <td>1</td>\n",
              "      <td>3</td>\n",
              "      <td>1</td>\n",
              "      <td>2</td>\n",
              "      <td>3</td>\n",
              "      <td>3</td>\n",
              "      <td>...</td>\n",
              "      <td>1</td>\n",
              "      <td>1</td>\n",
              "      <td>2</td>\n",
              "      <td>4</td>\n",
              "      <td>3</td>\n",
              "      <td>1</td>\n",
              "      <td>2</td>\n",
              "      <td>1</td>\n",
              "      <td>1</td>\n",
              "      <td>1</td>\n",
              "    </tr>\n",
              "    <tr>\n",
              "      <th>4</th>\n",
              "      <td>3</td>\n",
              "      <td>2</td>\n",
              "      <td>3</td>\n",
              "      <td>2</td>\n",
              "      <td>2</td>\n",
              "      <td>2</td>\n",
              "      <td>2</td>\n",
              "      <td>2</td>\n",
              "      <td>3</td>\n",
              "      <td>3</td>\n",
              "      <td>...</td>\n",
              "      <td>1</td>\n",
              "      <td>4</td>\n",
              "      <td>3</td>\n",
              "      <td>3</td>\n",
              "      <td>3</td>\n",
              "      <td>2</td>\n",
              "      <td>4</td>\n",
              "      <td>2</td>\n",
              "      <td>1</td>\n",
              "      <td>1</td>\n",
              "    </tr>\n",
              "    <tr>\n",
              "      <th>5</th>\n",
              "      <td>5</td>\n",
              "      <td>3</td>\n",
              "      <td>4</td>\n",
              "      <td>2</td>\n",
              "      <td>3</td>\n",
              "      <td>4</td>\n",
              "      <td>4</td>\n",
              "      <td>1</td>\n",
              "      <td>4</td>\n",
              "      <td>4</td>\n",
              "      <td>...</td>\n",
              "      <td>4</td>\n",
              "      <td>2</td>\n",
              "      <td>1</td>\n",
              "      <td>2</td>\n",
              "      <td>3</td>\n",
              "      <td>1</td>\n",
              "      <td>3</td>\n",
              "      <td>3</td>\n",
              "      <td>2</td>\n",
              "      <td>0</td>\n",
              "    </tr>\n",
              "    <tr>\n",
              "      <th>6</th>\n",
              "      <td>3</td>\n",
              "      <td>3</td>\n",
              "      <td>1</td>\n",
              "      <td>1</td>\n",
              "      <td>1</td>\n",
              "      <td>2</td>\n",
              "      <td>1</td>\n",
              "      <td>3</td>\n",
              "      <td>5</td>\n",
              "      <td>5</td>\n",
              "      <td>...</td>\n",
              "      <td>3</td>\n",
              "      <td>3</td>\n",
              "      <td>1</td>\n",
              "      <td>3</td>\n",
              "      <td>4</td>\n",
              "      <td>3</td>\n",
              "      <td>5</td>\n",
              "      <td>1</td>\n",
              "      <td>5</td>\n",
              "      <td>1</td>\n",
              "    </tr>\n",
              "    <tr>\n",
              "      <th>7</th>\n",
              "      <td>5</td>\n",
              "      <td>2</td>\n",
              "      <td>3</td>\n",
              "      <td>1</td>\n",
              "      <td>1</td>\n",
              "      <td>5</td>\n",
              "      <td>4</td>\n",
              "      <td>1</td>\n",
              "      <td>2</td>\n",
              "      <td>2</td>\n",
              "      <td>...</td>\n",
              "      <td>5</td>\n",
              "      <td>1</td>\n",
              "      <td>3</td>\n",
              "      <td>3</td>\n",
              "      <td>2</td>\n",
              "      <td>2</td>\n",
              "      <td>4</td>\n",
              "      <td>2</td>\n",
              "      <td>5</td>\n",
              "      <td>0</td>\n",
              "    </tr>\n",
              "    <tr>\n",
              "      <th>8</th>\n",
              "      <td>3</td>\n",
              "      <td>2</td>\n",
              "      <td>1</td>\n",
              "      <td>1</td>\n",
              "      <td>1</td>\n",
              "      <td>1</td>\n",
              "      <td>1</td>\n",
              "      <td>1</td>\n",
              "      <td>3</td>\n",
              "      <td>1</td>\n",
              "      <td>...</td>\n",
              "      <td>1</td>\n",
              "      <td>1</td>\n",
              "      <td>5</td>\n",
              "      <td>2</td>\n",
              "      <td>1</td>\n",
              "      <td>5</td>\n",
              "      <td>4</td>\n",
              "      <td>1</td>\n",
              "      <td>1</td>\n",
              "      <td>1</td>\n",
              "    </tr>\n",
              "    <tr>\n",
              "      <th>9</th>\n",
              "      <td>3</td>\n",
              "      <td>2</td>\n",
              "      <td>3</td>\n",
              "      <td>3</td>\n",
              "      <td>1</td>\n",
              "      <td>5</td>\n",
              "      <td>1</td>\n",
              "      <td>4</td>\n",
              "      <td>2</td>\n",
              "      <td>1</td>\n",
              "      <td>...</td>\n",
              "      <td>4</td>\n",
              "      <td>1</td>\n",
              "      <td>2</td>\n",
              "      <td>4</td>\n",
              "      <td>3</td>\n",
              "      <td>5</td>\n",
              "      <td>5</td>\n",
              "      <td>2</td>\n",
              "      <td>2</td>\n",
              "      <td>1</td>\n",
              "    </tr>\n",
              "  </tbody>\n",
              "</table>\n",
              "<p>10 rows × 33 columns</p>\n",
              "</div>\n",
              "      <button class=\"colab-df-convert\" onclick=\"convertToInteractive('df-7a780f81-4004-49f8-b486-4fd6c1072bdd')\"\n",
              "              title=\"Convert this dataframe to an interactive table.\"\n",
              "              style=\"display:none;\">\n",
              "        \n",
              "  <svg xmlns=\"http://www.w3.org/2000/svg\" height=\"24px\"viewBox=\"0 0 24 24\"\n",
              "       width=\"24px\">\n",
              "    <path d=\"M0 0h24v24H0V0z\" fill=\"none\"/>\n",
              "    <path d=\"M18.56 5.44l.94 2.06.94-2.06 2.06-.94-2.06-.94-.94-2.06-.94 2.06-2.06.94zm-11 1L8.5 8.5l.94-2.06 2.06-.94-2.06-.94L8.5 2.5l-.94 2.06-2.06.94zm10 10l.94 2.06.94-2.06 2.06-.94-2.06-.94-.94-2.06-.94 2.06-2.06.94z\"/><path d=\"M17.41 7.96l-1.37-1.37c-.4-.4-.92-.59-1.43-.59-.52 0-1.04.2-1.43.59L10.3 9.45l-7.72 7.72c-.78.78-.78 2.05 0 2.83L4 21.41c.39.39.9.59 1.41.59.51 0 1.02-.2 1.41-.59l7.78-7.78 2.81-2.81c.8-.78.8-2.07 0-2.86zM5.41 20L4 18.59l7.72-7.72 1.47 1.35L5.41 20z\"/>\n",
              "  </svg>\n",
              "      </button>\n",
              "      \n",
              "  <style>\n",
              "    .colab-df-container {\n",
              "      display:flex;\n",
              "      flex-wrap:wrap;\n",
              "      gap: 12px;\n",
              "    }\n",
              "\n",
              "    .colab-df-convert {\n",
              "      background-color: #E8F0FE;\n",
              "      border: none;\n",
              "      border-radius: 50%;\n",
              "      cursor: pointer;\n",
              "      display: none;\n",
              "      fill: #1967D2;\n",
              "      height: 32px;\n",
              "      padding: 0 0 0 0;\n",
              "      width: 32px;\n",
              "    }\n",
              "\n",
              "    .colab-df-convert:hover {\n",
              "      background-color: #E2EBFA;\n",
              "      box-shadow: 0px 1px 2px rgba(60, 64, 67, 0.3), 0px 1px 3px 1px rgba(60, 64, 67, 0.15);\n",
              "      fill: #174EA6;\n",
              "    }\n",
              "\n",
              "    [theme=dark] .colab-df-convert {\n",
              "      background-color: #3B4455;\n",
              "      fill: #D2E3FC;\n",
              "    }\n",
              "\n",
              "    [theme=dark] .colab-df-convert:hover {\n",
              "      background-color: #434B5C;\n",
              "      box-shadow: 0px 1px 3px 1px rgba(0, 0, 0, 0.15);\n",
              "      filter: drop-shadow(0px 1px 2px rgba(0, 0, 0, 0.3));\n",
              "      fill: #FFFFFF;\n",
              "    }\n",
              "  </style>\n",
              "\n",
              "      <script>\n",
              "        const buttonEl =\n",
              "          document.querySelector('#df-7a780f81-4004-49f8-b486-4fd6c1072bdd button.colab-df-convert');\n",
              "        buttonEl.style.display =\n",
              "          google.colab.kernel.accessAllowed ? 'block' : 'none';\n",
              "\n",
              "        async function convertToInteractive(key) {\n",
              "          const element = document.querySelector('#df-7a780f81-4004-49f8-b486-4fd6c1072bdd');\n",
              "          const dataTable =\n",
              "            await google.colab.kernel.invokeFunction('convertToInteractive',\n",
              "                                                     [key], {});\n",
              "          if (!dataTable) return;\n",
              "\n",
              "          const docLinkHtml = 'Like what you see? Visit the ' +\n",
              "            '<a target=\"_blank\" href=https://colab.research.google.com/notebooks/data_table.ipynb>data table notebook</a>'\n",
              "            + ' to learn more about interactive tables.';\n",
              "          element.innerHTML = '';\n",
              "          dataTable['output_type'] = 'display_data';\n",
              "          await google.colab.output.renderOutput(dataTable, element);\n",
              "          const docLink = document.createElement('div');\n",
              "          docLink.innerHTML = docLinkHtml;\n",
              "          element.appendChild(docLink);\n",
              "        }\n",
              "      </script>\n",
              "    </div>\n",
              "  </div>\n",
              "  "
            ]
          },
          "metadata": {},
          "execution_count": 3
        }
      ]
    },
    {
      "cell_type": "markdown",
      "source": [
        "So lets start. \n",
        "Please choose on o scalo from 1 to 5 how much do You like the next activities:"
      ],
      "metadata": {
        "id": "IPmNEVWKQtGt"
      }
    },
    {
      "cell_type": "code",
      "source": [
        "def check_valid(parameter, out_list):\n",
        "  answer = input(f\"{parameter}: \")\n",
        "  try:\n",
        "    num = int(answer)\n",
        "    if num in range(1,6):\n",
        "      user_rates.append(num)\n",
        "    else:\n",
        "      raise ValueError\n",
        "  except (TypeError, ValueError):\n",
        "      print(\"Please input integer in the range from 1 to 5\")\n",
        "      check_valid(parameter, out_list)  \n",
        "\n",
        "user_rates = []\n",
        "for col in dataset.columns[:32]:\n",
        "    check_valid(col, user_rates)\n",
        "  \n",
        "user_data = np.reshape(np.array(user_rates), (1, 32))"
      ],
      "metadata": {
        "colab": {
          "base_uri": "https://localhost:8080/"
        },
        "id": "_ElQv7FoQsVz",
        "outputId": "62b10a64-8a25-4ce1-b107-22f856588ba3"
      },
      "execution_count": 127,
      "outputs": [
        {
          "name": "stdout",
          "output_type": "stream",
          "text": [
            "History: 3\n",
            "Psychology: 5\n",
            "Politics: 1\n",
            "Mathematics: 2\n",
            "Physics: 1\n",
            "Internet: 4\n",
            "PC: 2\n",
            "Economy Management: 2\n",
            "Biology: 5\n",
            "Chemistry: 5\n",
            "Reading: 5\n",
            "Geography: 3\n",
            "Foreign languages: 5\n",
            "Medicine: 4\n",
            "Law: 2\n",
            "Cars: 1\n",
            "Art exhibitions: 5\n",
            "Religion: 3\n",
            "Countryside and outdoors: 5\n",
            "Dancing: 5\n",
            "Musical instruments: 3\n",
            "Writing: 3\n",
            "Passive sport: 2\n",
            "Active sport: 2\n",
            "Gardening: 4\n",
            "Celebrities: 5\n",
            "Shopping: 5\n",
            "Science and technology: 1\n",
            "Theatre: 4\n",
            "Fun with friends: 5\n",
            "Adrenaline sports: 2\n",
            "Pets: 5\n"
          ]
        }
      ]
    },
    {
      "cell_type": "markdown",
      "metadata": {
        "id": "uam42Z-SGeKf"
      },
      "source": [
        "# Dividing the datasheet\n",
        "\n",
        "Here I divided a dataset in two parts.\n",
        "\n",
        "All interests and hobbies I marked as x (my input) and gender as y (my output).\n",
        "\n",
        "Also, I divided all data into training data (80%) and testing data (20%).\n"
      ]
    },
    {
      "cell_type": "code",
      "metadata": {
        "id": "hCpLvAp_pAAm",
        "outputId": "13ec43e5-4b8c-4795-c987-ae22e49ad2ed",
        "colab": {
          "base_uri": "https://localhost:8080/"
        }
      },
      "source": [
        "x = dataset.iloc[:,:32].values\n",
        "y = dataset.iloc[:,32].values\n",
        "\n",
        "from sklearn.model_selection import train_test_split\n",
        "x_train,x_test,y_train,y_test = train_test_split(x,y,test_size = 0.2)\n",
        "\n",
        "# print info about a shape of arrays\n",
        "print(x_train.shape, 'train samples for parameters')\n",
        "print(y_train.shape, 'train samples for output - Gender')\n",
        "print(x_test.shape, 'test samples  for parameters')\n",
        "print(y_test.shape, 'test samples for output - Gender')\n",
        "\n",
        "print(user_data.shape, 'user input data')"
      ],
      "execution_count": 128,
      "outputs": [
        {
          "output_type": "stream",
          "name": "stdout",
          "text": [
            "(800, 32) train samples for parameters\n",
            "(800,) train samples for output - Gender\n",
            "(200, 32) test samples  for parameters\n",
            "(200,) test samples for output - Gender\n",
            "(1, 32) user input data\n"
          ]
        }
      ]
    },
    {
      "cell_type": "markdown",
      "metadata": {
        "id": "s63lAwe-ut_W"
      },
      "source": [
        "# Checking clustering of data\n",
        "\n",
        "I import PCA methods and project the data from 32-dimensional space into 2-dimensional in a way, that the difference between the responses of different genders is as clear as possible.\n",
        "\n",
        "As we can see from this graph, even when looking at the projection in 2D space, we can see that there is some visible difference between interests and hobbies, which are more characteristic for males and females."
      ]
    },
    {
      "cell_type": "code",
      "metadata": {
        "id": "A-KtJ12B3n1c",
        "outputId": "fb0315b9-c544-41c3-d1c2-6fdc7ba784d1",
        "colab": {
          "base_uri": "https://localhost:8080/",
          "height": 318
        }
      },
      "source": [
        "from sklearn.decomposition import PCA\n",
        "import matplotlib.pyplot as plt\n",
        "\n",
        "pca = PCA(2) \n",
        "projected = pca.fit_transform(x)\n",
        "print(x.shape)\n",
        "print(projected.shape)\n",
        "\n",
        "plt.scatter(projected[:, 0], projected[:, 1],\n",
        "            c=y, edgecolor='none', alpha=0.5,\n",
        "            cmap=plt.cm.get_cmap('rainbow', 2))\n",
        "plt.xlabel('Component 1')\n",
        "plt.ylabel('Component 2')\n",
        "plt.colorbar();"
      ],
      "execution_count": 129,
      "outputs": [
        {
          "output_type": "stream",
          "name": "stdout",
          "text": [
            "(1000, 32)\n",
            "(1000, 2)\n"
          ]
        },
        {
          "output_type": "display_data",
          "data": {
            "text/plain": [
              "<Figure size 432x288 with 2 Axes>"
            ],
            "image/png": "[encoded data removed]"
          },
          "metadata": {
            "needs_background": "light"
          }
        }
      ]
    },
    {
      "cell_type": "markdown",
      "metadata": {
        "id": "HcTZM-ZXuzw-"
      },
      "source": [
        "# Data overview\n",
        "\n",
        "The graphs below show a comparison of the average score for different interests and hobbies, done by men and women. As we can see, there are interests that women have marked with a higher score (Reading, Shopping, Dancing), and there are interests that are more expressed in men lifes (Science and technology, PC, Cars)."
      ]
    },
    {
      "cell_type": "code",
      "metadata": {
        "id": "-xEe2hbcKph9",
        "outputId": "19a3e7e7-4f14-4506-cebb-96fa38df62d1",
        "colab": {
          "base_uri": "https://localhost:8080/",
          "height": 879
        }
      },
      "source": [
        "import seaborn as sns\n",
        "\n",
        "main_columns = ['Reading', 'Shopping', 'Dancing', 'Theatre', 'Celebrities', \n",
        "                'Art exhibitions', 'Foreign languages', 'Pets', 'Biology',\n",
        "                'Psychology', 'Gardening', 'Medicine', 'Writing', 'Countryside and outdoors',\n",
        "                'Chemistry', 'Religion', 'Fun with friends', 'Musical instruments',\n",
        "                'Law', 'Economy Management', 'Geography', 'History', 'Internet',\n",
        "                'Passive sport', 'Mathematics', 'Politics', 'Adrenaline sports',\n",
        "                'Active sport',\t'Physics', 'Science and technology', 'PC', 'Cars']\n",
        "\n",
        "fig, ax = plt.subplots(nrows=4, ncols=8 ,figsize=(20,15), sharex=True)\n",
        "start = 0\n",
        "for j in range(4):\n",
        "    for i in range(8):\n",
        "        if start == len(main_columns):\n",
        "            break\n",
        "        sns.barplot(y=main_columns[start], x='Gender', data=dataset, ax=ax[j,i])\n",
        "        ax[j,i].set_ylabel('')\n",
        "        ax[j,i].set_xlabel('')\n",
        "        ax[j,i].set_title(main_columns[start], fontsize=12)\n",
        "        start += 1"
      ],
      "execution_count": 130,
      "outputs": [
        {
          "output_type": "display_data",
          "data": {
            "text/plain": [
              "<Figure size 1440x1080 with 32 Axes>"
            ],
            "image/png": "[encoded data removed]"
          },
          "metadata": {
            "needs_background": "light"
          }
        }
      ]
    },
    {
      "cell_type": "markdown",
      "metadata": {
        "id": "JiB56vDFD5P4"
      },
      "source": [
        "# Simple classifiers\n",
        "\n",
        "Before building neural networks, we can test how we can perform our task using simple classifiers like\n",
        "- GaussianNB\n",
        "- LinearDiscriminantAnalysis\n",
        "- KNeighborsClassifier\n",
        "- MLPClassifier"
      ]
    },
    {
      "cell_type": "code",
      "metadata": {
        "id": "hd6SLljWsBkl",
        "outputId": "1ffcc288-7de1-43a7-bff6-8536cd548161",
        "colab": {
          "base_uri": "https://localhost:8080/"
        }
      },
      "source": [
        "from sklearn.datasets import fetch_openml\n",
        "from sklearn.neural_network import MLPClassifier\n",
        "from sklearn.model_selection import train_test_split\n",
        "from sklearn.naive_bayes import GaussianNB\n",
        "from sklearn.discriminant_analysis import LinearDiscriminantAnalysis\n",
        "from sklearn.neighbors import KNeighborsClassifier\n",
        "\n",
        "clf = GaussianNB()\n",
        "#clf = LinearDiscriminantAnalysis()\n",
        "#clf = KNeighborsClassifier(5)\n",
        "#lf =  MLPClassifier(alpha=0.05, max_iter=10000,solver='adam', random_state=1, hidden_layer_sizes=[100, 100],early_stopping=True, verbose=10, tol=0.00001)\n",
        "\n",
        "print(clf.fit(x_train, y_train))\n",
        "#print(clf.feature_importances_)  \n",
        "\n",
        "# use the model to predict the labels of the test data\n",
        "predicted = clf.predict(x_test)\n",
        "expected = y_test\n",
        "\n",
        "\n",
        "print(\"Score train = \",clf.score(x_train, y_train))\n",
        "print(\"Score test  = \",clf.score(x_test, y_test))\n",
        "\n",
        "from sklearn import metrics\n",
        "\n",
        "print('Confusion matrix:')\n",
        "print(metrics.confusion_matrix(expected, predicted))\n",
        "plt.show()"
      ],
      "execution_count": 131,
      "outputs": [
        {
          "output_type": "stream",
          "name": "stdout",
          "text": [
            "GaussianNB()\n",
            "Score train =  0.84875\n",
            "Score test  =  0.865\n",
            "Confusion matrix:\n",
            "[[ 62  16]\n",
            " [ 11 111]]\n"
          ]
        }
      ]
    },
    {
      "cell_type": "markdown",
      "metadata": {
        "id": "jTDC5UT1OW4Q"
      },
      "source": [
        "# Building a neural network\n",
        "\n",
        "Here I build my neural network and check its structure. "
      ]
    },
    {
      "cell_type": "code",
      "metadata": {
        "id": "NH8-SOucpM7F",
        "outputId": "4e7ade42-242a-4435-c857-c2100bf8218f",
        "colab": {
          "base_uri": "https://localhost:8080/"
        }
      },
      "source": [
        "import keras\n",
        "import tensorflow as tf\n",
        "from keras.models import Sequential\n",
        "from keras.layers import Dense\n",
        "from keras.layers import Dropout\n",
        "\n",
        "# Neural network\n",
        "model = Sequential()\n",
        "model.add(Dense(32, activation='relu', input_shape=(32,)))\n",
        "model.add(Dropout(0.3))\n",
        "model.add(Dense(32, activation='relu'))\n",
        "model.add(Dropout(0.3))\n",
        "model.add(Dense(2, activation='softmax'))\n",
        "\n",
        "model.compile(optimizer='adam',\n",
        "              loss='sparse_categorical_crossentropy',\n",
        "              metrics=['accuracy'])\n",
        "\n",
        "model.summary()"
      ],
      "execution_count": 132,
      "outputs": [
        {
          "output_type": "stream",
          "name": "stdout",
          "text": [
            "Model: \"sequential_2\"\n",
            "_________________________________________________________________\n",
            " Layer (type)                Output Shape              Param #   \n",
            "=================================================================\n",
            " dense_6 (Dense)             (None, 32)                1056      \n",
            "                                                                 \n",
            " dropout_4 (Dropout)         (None, 32)                0         \n",
            "                                                                 \n",
            " dense_7 (Dense)             (None, 32)                1056      \n",
            "                                                                 \n",
            " dropout_5 (Dropout)         (None, 32)                0         \n",
            "                                                                 \n",
            " dense_8 (Dense)             (None, 2)                 66        \n",
            "                                                                 \n",
            "=================================================================\n",
            "Total params: 2,178\n",
            "Trainable params: 2,178\n",
            "Non-trainable params: 0\n",
            "_________________________________________________________________\n"
          ]
        }
      ]
    },
    {
      "cell_type": "markdown",
      "metadata": {
        "id": "9Lk-sJw7QhIW"
      },
      "source": [
        "# Training a neural network"
      ]
    },
    {
      "cell_type": "code",
      "metadata": {
        "id": "6AX89Jraqeke",
        "outputId": "b14c15f6-20e4-48c3-a821-b02de2f4bdbc",
        "colab": {
          "base_uri": "https://localhost:8080/"
        }
      },
      "source": [
        "batch_size = 100\n",
        "epochs = 60\n",
        "\n",
        "history = model.fit(x_train, y_train,\n",
        "                    batch_size=batch_size,\n",
        "                    epochs=epochs,\n",
        "                    verbose=1,\n",
        "                    validation_data=(x_test, y_test))"
      ],
      "execution_count": 133,
      "outputs": [
        {
          "output_type": "stream",
          "name": "stdout",
          "text": [
            "Epoch 1/60\n",
            "8/8 [==============================] - 1s 27ms/step - loss: 1.3239 - accuracy: 0.5275 - val_loss: 0.6845 - val_accuracy: 0.6200\n",
            "Epoch 2/60\n",
            "8/8 [==============================] - 0s 5ms/step - loss: 1.0922 - accuracy: 0.5425 - val_loss: 0.6246 - val_accuracy: 0.7000\n",
            "Epoch 3/60\n",
            "8/8 [==============================] - 0s 5ms/step - loss: 0.9013 - accuracy: 0.5450 - val_loss: 0.5754 - val_accuracy: 0.7250\n",
            "Epoch 4/60\n",
            "8/8 [==============================] - 0s 5ms/step - loss: 0.7821 - accuracy: 0.5875 - val_loss: 0.5524 - val_accuracy: 0.7750\n",
            "Epoch 5/60\n",
            "8/8 [==============================] - 0s 5ms/step - loss: 0.7343 - accuracy: 0.6112 - val_loss: 0.5453 - val_accuracy: 0.7600\n",
            "Epoch 6/60\n",
            "8/8 [==============================] - 0s 9ms/step - loss: 0.6672 - accuracy: 0.6363 - val_loss: 0.5357 - val_accuracy: 0.7650\n",
            "Epoch 7/60\n",
            "8/8 [==============================] - 0s 5ms/step - loss: 0.6215 - accuracy: 0.6513 - val_loss: 0.5149 - val_accuracy: 0.7650\n",
            "Epoch 8/60\n",
            "8/8 [==============================] - 0s 5ms/step - loss: 0.5936 - accuracy: 0.7075 - val_loss: 0.5013 - val_accuracy: 0.7850\n",
            "Epoch 9/60\n",
            "8/8 [==============================] - 0s 5ms/step - loss: 0.6033 - accuracy: 0.6725 - val_loss: 0.4917 - val_accuracy: 0.8050\n",
            "Epoch 10/60\n",
            "8/8 [==============================] - 0s 5ms/step - loss: 0.5806 - accuracy: 0.6812 - val_loss: 0.4706 - val_accuracy: 0.8000\n",
            "Epoch 11/60\n",
            "8/8 [==============================] - 0s 5ms/step - loss: 0.5875 - accuracy: 0.6975 - val_loss: 0.4591 - val_accuracy: 0.8200\n",
            "Epoch 12/60\n",
            "8/8 [==============================] - 0s 5ms/step - loss: 0.5431 - accuracy: 0.7138 - val_loss: 0.4482 - val_accuracy: 0.8300\n",
            "Epoch 13/60\n",
            "8/8 [==============================] - 0s 5ms/step - loss: 0.5557 - accuracy: 0.7287 - val_loss: 0.4378 - val_accuracy: 0.8250\n",
            "Epoch 14/60\n",
            "8/8 [==============================] - 0s 5ms/step - loss: 0.5206 - accuracy: 0.7450 - val_loss: 0.4311 - val_accuracy: 0.8400\n",
            "Epoch 15/60\n",
            "8/8 [==============================] - 0s 5ms/step - loss: 0.5308 - accuracy: 0.7588 - val_loss: 0.4190 - val_accuracy: 0.8400\n",
            "Epoch 16/60\n",
            "8/8 [==============================] - 0s 5ms/step - loss: 0.5144 - accuracy: 0.7575 - val_loss: 0.4128 - val_accuracy: 0.8450\n",
            "Epoch 17/60\n",
            "8/8 [==============================] - 0s 5ms/step - loss: 0.5049 - accuracy: 0.7613 - val_loss: 0.3976 - val_accuracy: 0.8550\n",
            "Epoch 18/60\n",
            "8/8 [==============================] - 0s 5ms/step - loss: 0.4993 - accuracy: 0.7625 - val_loss: 0.3854 - val_accuracy: 0.8750\n",
            "Epoch 19/60\n",
            "8/8 [==============================] - 0s 6ms/step - loss: 0.4676 - accuracy: 0.7862 - val_loss: 0.3836 - val_accuracy: 0.8600\n",
            "Epoch 20/60\n",
            "8/8 [==============================] - 0s 6ms/step - loss: 0.4980 - accuracy: 0.7837 - val_loss: 0.3790 - val_accuracy: 0.8600\n",
            "Epoch 21/60\n",
            "8/8 [==============================] - 0s 5ms/step - loss: 0.4755 - accuracy: 0.7725 - val_loss: 0.3680 - val_accuracy: 0.8800\n",
            "Epoch 22/60\n",
            "8/8 [==============================] - 0s 6ms/step - loss: 0.4609 - accuracy: 0.7987 - val_loss: 0.3714 - val_accuracy: 0.8700\n",
            "Epoch 23/60\n",
            "8/8 [==============================] - 0s 5ms/step - loss: 0.4437 - accuracy: 0.7925 - val_loss: 0.3566 - val_accuracy: 0.8800\n",
            "Epoch 24/60\n",
            "8/8 [==============================] - 0s 5ms/step - loss: 0.4331 - accuracy: 0.8037 - val_loss: 0.3424 - val_accuracy: 0.8750\n",
            "Epoch 25/60\n",
            "8/8 [==============================] - 0s 5ms/step - loss: 0.4200 - accuracy: 0.8175 - val_loss: 0.3371 - val_accuracy: 0.8800\n",
            "Epoch 26/60\n",
            "8/8 [==============================] - 0s 5ms/step - loss: 0.4503 - accuracy: 0.8000 - val_loss: 0.3264 - val_accuracy: 0.8850\n",
            "Epoch 27/60\n",
            "8/8 [==============================] - 0s 8ms/step - loss: 0.4239 - accuracy: 0.8163 - val_loss: 0.3265 - val_accuracy: 0.8800\n",
            "Epoch 28/60\n",
            "8/8 [==============================] - 0s 5ms/step - loss: 0.4321 - accuracy: 0.8138 - val_loss: 0.3323 - val_accuracy: 0.8800\n",
            "Epoch 29/60\n",
            "8/8 [==============================] - 0s 5ms/step - loss: 0.4355 - accuracy: 0.8075 - val_loss: 0.3241 - val_accuracy: 0.8800\n",
            "Epoch 30/60\n",
            "8/8 [==============================] - 0s 5ms/step - loss: 0.4242 - accuracy: 0.8225 - val_loss: 0.3283 - val_accuracy: 0.8750\n",
            "Epoch 31/60\n",
            "8/8 [==============================] - 0s 6ms/step - loss: 0.4023 - accuracy: 0.8087 - val_loss: 0.3220 - val_accuracy: 0.8750\n",
            "Epoch 32/60\n",
            "8/8 [==============================] - 0s 6ms/step - loss: 0.4038 - accuracy: 0.8238 - val_loss: 0.3224 - val_accuracy: 0.8750\n",
            "Epoch 33/60\n",
            "8/8 [==============================] - 0s 5ms/step - loss: 0.4064 - accuracy: 0.8350 - val_loss: 0.3172 - val_accuracy: 0.8750\n",
            "Epoch 34/60\n",
            "8/8 [==============================] - 0s 5ms/step - loss: 0.3885 - accuracy: 0.8263 - val_loss: 0.3079 - val_accuracy: 0.8800\n",
            "Epoch 35/60\n",
            "8/8 [==============================] - 0s 6ms/step - loss: 0.3873 - accuracy: 0.8338 - val_loss: 0.3035 - val_accuracy: 0.8750\n",
            "Epoch 36/60\n",
            "8/8 [==============================] - 0s 6ms/step - loss: 0.3796 - accuracy: 0.8338 - val_loss: 0.3098 - val_accuracy: 0.8800\n",
            "Epoch 37/60\n",
            "8/8 [==============================] - 0s 9ms/step - loss: 0.3904 - accuracy: 0.8313 - val_loss: 0.3057 - val_accuracy: 0.8900\n",
            "Epoch 38/60\n",
            "8/8 [==============================] - 0s 6ms/step - loss: 0.3737 - accuracy: 0.8500 - val_loss: 0.3013 - val_accuracy: 0.8800\n",
            "Epoch 39/60\n",
            "8/8 [==============================] - 0s 5ms/step - loss: 0.3575 - accuracy: 0.8525 - val_loss: 0.3026 - val_accuracy: 0.8750\n",
            "Epoch 40/60\n",
            "8/8 [==============================] - 0s 5ms/step - loss: 0.3825 - accuracy: 0.8238 - val_loss: 0.2992 - val_accuracy: 0.8800\n",
            "Epoch 41/60\n",
            "8/8 [==============================] - 0s 5ms/step - loss: 0.3681 - accuracy: 0.8462 - val_loss: 0.2993 - val_accuracy: 0.8800\n",
            "Epoch 42/60\n",
            "8/8 [==============================] - 0s 5ms/step - loss: 0.3959 - accuracy: 0.8087 - val_loss: 0.3013 - val_accuracy: 0.8850\n",
            "Epoch 43/60\n",
            "8/8 [==============================] - 0s 6ms/step - loss: 0.3570 - accuracy: 0.8600 - val_loss: 0.3003 - val_accuracy: 0.8750\n",
            "Epoch 44/60\n",
            "8/8 [==============================] - 0s 5ms/step - loss: 0.3705 - accuracy: 0.8512 - val_loss: 0.2960 - val_accuracy: 0.8750\n",
            "Epoch 45/60\n",
            "8/8 [==============================] - 0s 5ms/step - loss: 0.3709 - accuracy: 0.8525 - val_loss: 0.2975 - val_accuracy: 0.8750\n",
            "Epoch 46/60\n",
            "8/8 [==============================] - 0s 5ms/step - loss: 0.3610 - accuracy: 0.8562 - val_loss: 0.2936 - val_accuracy: 0.8750\n",
            "Epoch 47/60\n",
            "8/8 [==============================] - 0s 5ms/step - loss: 0.3442 - accuracy: 0.8587 - val_loss: 0.2917 - val_accuracy: 0.8900\n",
            "Epoch 48/60\n",
            "8/8 [==============================] - 0s 5ms/step - loss: 0.3400 - accuracy: 0.8575 - val_loss: 0.2978 - val_accuracy: 0.8750\n",
            "Epoch 49/60\n",
            "8/8 [==============================] - 0s 6ms/step - loss: 0.3375 - accuracy: 0.8575 - val_loss: 0.2931 - val_accuracy: 0.8750\n",
            "Epoch 50/60\n",
            "8/8 [==============================] - 0s 5ms/step - loss: 0.3453 - accuracy: 0.8450 - val_loss: 0.2909 - val_accuracy: 0.8800\n",
            "Epoch 51/60\n",
            "8/8 [==============================] - 0s 5ms/step - loss: 0.3328 - accuracy: 0.8587 - val_loss: 0.2918 - val_accuracy: 0.8750\n",
            "Epoch 52/60\n",
            "8/8 [==============================] - 0s 6ms/step - loss: 0.3356 - accuracy: 0.8587 - val_loss: 0.2885 - val_accuracy: 0.8900\n",
            "Epoch 53/60\n",
            "8/8 [==============================] - 0s 5ms/step - loss: 0.3610 - accuracy: 0.8462 - val_loss: 0.2947 - val_accuracy: 0.8550\n",
            "Epoch 54/60\n",
            "8/8 [==============================] - 0s 5ms/step - loss: 0.3517 - accuracy: 0.8500 - val_loss: 0.2922 - val_accuracy: 0.8800\n",
            "Epoch 55/60\n",
            "8/8 [==============================] - 0s 7ms/step - loss: 0.3653 - accuracy: 0.8363 - val_loss: 0.2956 - val_accuracy: 0.8750\n",
            "Epoch 56/60\n",
            "8/8 [==============================] - 0s 5ms/step - loss: 0.3579 - accuracy: 0.8487 - val_loss: 0.2955 - val_accuracy: 0.8750\n",
            "Epoch 57/60\n",
            "8/8 [==============================] - 0s 6ms/step - loss: 0.3431 - accuracy: 0.8487 - val_loss: 0.2939 - val_accuracy: 0.8800\n",
            "Epoch 58/60\n",
            "8/8 [==============================] - 0s 7ms/step - loss: 0.3352 - accuracy: 0.8450 - val_loss: 0.2950 - val_accuracy: 0.8850\n",
            "Epoch 59/60\n",
            "8/8 [==============================] - 0s 6ms/step - loss: 0.3521 - accuracy: 0.8500 - val_loss: 0.2966 - val_accuracy: 0.8650\n",
            "Epoch 60/60\n",
            "8/8 [==============================] - 0s 5ms/step - loss: 0.3468 - accuracy: 0.8500 - val_loss: 0.2929 - val_accuracy: 0.8750\n"
          ]
        }
      ]
    },
    {
      "cell_type": "markdown",
      "metadata": {
        "id": "_uJVsFeFQwJ7"
      },
      "source": [
        "# Checking neural network efficiency"
      ]
    },
    {
      "cell_type": "code",
      "metadata": {
        "id": "r3Wpuu-X0yN3",
        "outputId": "9ad9ac7a-42ce-455a-fa7e-33e071376034",
        "colab": {
          "base_uri": "https://localhost:8080/",
          "height": 642
        }
      },
      "source": [
        "from sklearn import metrics\n",
        "\n",
        "# evaluate the model\n",
        "scores_train = model.evaluate(x_train, y_train, verbose=0)\n",
        "scores_test  = model.evaluate(x_test,  y_test,  verbose=0)\n",
        "\n",
        "print(\"Accuracy Train: %.2f%% , Test: %.2f%% \" % (scores_train[1]*100, scores_test[1]*100 ))\n",
        "\n",
        "# Confusion matrix result\n",
        "from sklearn.metrics import classification_report, confusion_matrix\n",
        "y_pred = model.predict(x_test, verbose=2)\n",
        "\n",
        "#confusion matrix\n",
        "#since y_pred has a shape(200,2) than argmax finds which output cell is bigger\n",
        "\n",
        "cm = confusion_matrix((y_test+0.5).astype(int),np.argmax(y_pred,axis=1))\n",
        "print(cm)\n",
        "\n",
        "plt.plot(history.history['val_accuracy'])\n",
        "plt.plot(history.history['accuracy'])\n",
        "plt.title('Model accuracy')\n",
        "plt.ylabel('Accuracy')\n",
        "plt.xlabel('Epoch')\n",
        "plt.legend(['Train', 'Test'], loc='upper left')\n",
        "plt.show()\n",
        "\n",
        "plt.plot(history.history['val_loss']) \n",
        "plt.plot(history.history['loss']) \n",
        "plt.title('Model loss') \n",
        "plt.ylabel('Loss') \n",
        "plt.xlabel('Epoch') \n",
        "plt.legend(['Test', 'Train'], loc='upper left') \n",
        "plt.show()"
      ],
      "execution_count": 134,
      "outputs": [
        {
          "output_type": "stream",
          "name": "stdout",
          "text": [
            "Accuracy Train: 87.75% , Test: 87.50% \n",
            "7/7 - 0s - 58ms/epoch - 8ms/step\n",
            "[[ 66  12]\n",
            " [ 13 109]]\n"
          ]
        },
        {
          "output_type": "display_data",
          "data": {
            "text/plain": [
              "<Figure size 432x288 with 1 Axes>"
            ],
            "image/png": "[encoded data removed]"
          },
          "metadata": {
            "needs_background": "light"
          }
        },
        {
          "output_type": "display_data",
          "data": {
            "text/plain": [
              "<Figure size 432x288 with 1 Axes>"
            ],
            "image/png": "[encoded data removed]"
          },
          "metadata": {
            "needs_background": "light"
          }
        }
      ]
    },
    {
      "cell_type": "code",
      "source": [
        "predictions = model.predict(user_data)\n",
        "chance = round(predictions[0][0]*100, 1)\n",
        "print(f\"Chances that You are male are {chance}%\")\n",
        "print(f\"Chances that You are female are {round(100-chance, 1)}%\\n\")\n",
        "print(f\"So my guess is that You are {['male', 'female'][float(chance)<50]}\")"
      ],
      "metadata": {
        "colab": {
          "base_uri": "https://localhost:8080/"
        },
        "id": "RniGjwqWgPew",
        "outputId": "f0a7cf55-49c4-4674-f2eb-7608f4cf99f8"
      },
      "execution_count": 135,
      "outputs": [
        {
          "output_type": "stream",
          "name": "stdout",
          "text": [
            "1/1 [==============================] - 0s 16ms/step\n",
            "Chances that You are male are 0.0%\n",
            "Chances that You are female are 100.0%\n",
            "\n",
            "So my guess is that You are female\n"
          ]
        }
      ]
    },
    {
      "cell_type": "markdown",
      "metadata": {
        "id": "6JgEf7feYnk_"
      },
      "source": [
        "# Conclusion\n",
        "\n",
        "- While doing this task, I realized that I could analyze datasets and create neural networks for my needs\n",
        "- I have created and imported a dataset and analyzed it, using both simple classificators and neural network classificator.\n",
        "- The efficiency of neural network classification and simple classificators are at the same range (~85%), what can be explained by a small dataset and a complexity of a task, which makes it impossible to have much better efficiency.\n"
      ]
    }
  ]
}