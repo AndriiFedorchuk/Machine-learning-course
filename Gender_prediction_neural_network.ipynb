{
  "nbformat": 4,
  "nbformat_minor": 0,
  "metadata": {
    "colab": {
      "provenance": [],
      "include_colab_link": true
    },
    "kernelspec": {
      "name": "python3",
      "display_name": "Python 3"
    }
  },
  "cells": [
    {
      "cell_type": "markdown",
      "metadata": {
        "id": "view-in-github",
        "colab_type": "text"
      },
      "source": [
        "<a href=\"https://colab.research.google.com/github/AndriiFedorchuk/Machine-learning-course/blob/master/Gender_prediction_neural_network.ipynb\" target=\"_parent\"><img src=\"https://colab.research.google.com/assets/colab-badge.svg\" alt=\"Open In Colab\"/></a>"
      ]
    },
    {
      "cell_type": "markdown",
      "metadata": {
        "id": "qImwF8-qzoFL"
      },
      "source": [
        "# Main assumptions\n",
        "\n",
        "The purpose of this project is to train the neural network, which, based on the hobby and the interests of the person, will guess its gender.\n",
        "\n",
        "It is worth saying that the author of the project does NOT believe that certain interests and hobbies are inherent only in men or only women, just as he does not support the view that certain hobbies are pure \"male\" or \"female\".\n",
        "\n",
        "The author also respects people's right to self-identification, including gender one. The division of people into two genders was chosen only due to the fact, that the corresponding division was presented in the data set from which the author took the main data.\n",
        "\n",
        "The author of the project only believes that in 2022, there are still some factors that encourage people to choose their interests in such a way that there is a statistically significant difference between the interests of genders. These factors include, but are not limited to:\n",
        "- traditional education\n",
        "- the influence of people with traditional views\n",
        "- society's expectation that a person will behave according to his / her / their gender role\n",
        "- the effect of hormones (in particular testosterone stimulates interest in competitiveness and cruelty)\n",
        "- etc.\n",
        "\n",
        "Based on all of the above, the author believes that in 2020 it is impossible to guess the gender of a person with 100% accuracy, based only on his/her/their interests and hobbies, but thinks that it is quite possible to expect a prediction accuracy at the order of 70-85%."
      ]
    },
    {
      "cell_type": "markdown",
      "metadata": {
        "id": "YJGTgLYuzq_d"
      },
      "source": [
        "# Data importing\n",
        "\n",
        "To begin with, we import the basic tools and the main file. The file is in .swc format and was manually created by the author based on an open-source data set.\n",
        "\n",
        "[https://www.kaggle.com/miroslavsabo/young-people-survey#columns.csv](https://www.kaggle.com/miroslavsabo/young-people-survey#columns.csv)\n",
        "\n",
        "The number of parameters was reduced from 150 to 33, of which 32 are hobbies and interests of the person, and 1 for the corresponding gender.\n",
        "\n",
        "In order to simplify my task I marked genders with numbers:\n",
        "0 - male\n",
        "1 - female"
      ]
    },
    {
      "cell_type": "code",
      "metadata": {
        "id": "zkfOrKnpovMa",
        "outputId": "b1424818-054d-47b0-c22a-29297c72863a",
        "colab": {
          "base_uri": "https://localhost:8080/",
          "height": 491
        }
      },
      "source": [
        "import numpy as np\n",
        "import pandas as pd\n",
        "\n",
        "URL = 'https://raw.githubusercontent.com/AndriiFedorchuk/Andrii/master/main_fa.csv'    \n",
        "dataset = pd.read_csv(URL)                                                             \n",
        "dataset.head(10)"
      ],
      "execution_count": 139,
      "outputs": [
        {
          "output_type": "execute_result",
          "data": {
            "text/plain": [
              "   History  Psychology  Politics  Mathematics  Physics  Internet  PC  \\\n",
              "0        1           5         1            3        3         5   3   \n",
              "1        1           3         4            5        2         4   4   \n",
              "2        1           2         1            5        2         4   2   \n",
              "3        4           4         5            4        1         3   1   \n",
              "4        3           2         3            2        2         2   2   \n",
              "5        5           3         4            2        3         4   4   \n",
              "6        3           3         1            1        1         2   1   \n",
              "7        5           2         3            1        1         5   4   \n",
              "8        3           2         1            1        1         1   1   \n",
              "9        3           2         3            3        1         5   1   \n",
              "\n",
              "   Economy Management  Biology  Chemistry  ...  Active sport  Gardening  \\\n",
              "0                   5        3          3  ...             5          5   \n",
              "1                   5        1          1  ...             1          1   \n",
              "2                   4        1          1  ...             2          1   \n",
              "3                   2        3          3  ...             1          1   \n",
              "4                   2        3          3  ...             1          4   \n",
              "5                   1        4          4  ...             4          2   \n",
              "6                   3        5          5  ...             3          3   \n",
              "7                   1        2          2  ...             5          1   \n",
              "8                   1        3          1  ...             1          1   \n",
              "9                   4        2          1  ...             4          1   \n",
              "\n",
              "   Celebrities  Shopping  Science and technology  Theatre  Fun with friends  \\\n",
              "0            1         4                       4        2                 5   \n",
              "1            2         3                       3        2                 4   \n",
              "2            1         4                       2        5                 5   \n",
              "3            2         4                       3        1                 2   \n",
              "4            3         3                       3        2                 4   \n",
              "5            1         2                       3        1                 3   \n",
              "6            1         3                       4        3                 5   \n",
              "7            3         3                       2        2                 4   \n",
              "8            5         2                       1        5                 4   \n",
              "9            2         4                       3        5                 5   \n",
              "\n",
              "   Adrenaline sports  Pets  Gender  \n",
              "0                  4     4       1  \n",
              "1                  2     5       1  \n",
              "2                  5     5       1  \n",
              "3                  1     1       1  \n",
              "4                  2     1       1  \n",
              "5                  3     2       0  \n",
              "6                  1     5       1  \n",
              "7                  2     5       0  \n",
              "8                  1     1       1  \n",
              "9                  2     2       1  \n",
              "\n",
              "[10 rows x 33 columns]"
            ],
            "text/html": [
              "\n",
              "  <div id=\"df-915a3bda-4063-49dd-9baa-5b99bc34ab87\">\n",
              "    <div class=\"colab-df-container\">\n",
              "      <div>\n",
              "<style scoped>\n",
              "    .dataframe tbody tr th:only-of-type {\n",
              "        vertical-align: middle;\n",
              "    }\n",
              "\n",
              "    .dataframe tbody tr th {\n",
              "        vertical-align: top;\n",
              "    }\n",
              "\n",
              "    .dataframe thead th {\n",
              "        text-align: right;\n",
              "    }\n",
              "</style>\n",
              "<table border=\"1\" class=\"dataframe\">\n",
              "  <thead>\n",
              "    <tr style=\"text-align: right;\">\n",
              "      <th></th>\n",
              "      <th>History</th>\n",
              "      <th>Psychology</th>\n",
              "      <th>Politics</th>\n",
              "      <th>Mathematics</th>\n",
              "      <th>Physics</th>\n",
              "      <th>Internet</th>\n",
              "      <th>PC</th>\n",
              "      <th>Economy Management</th>\n",
              "      <th>Biology</th>\n",
              "      <th>Chemistry</th>\n",
              "      <th>...</th>\n",
              "      <th>Active sport</th>\n",
              "      <th>Gardening</th>\n",
              "      <th>Celebrities</th>\n",
              "      <th>Shopping</th>\n",
              "      <th>Science and technology</th>\n",
              "      <th>Theatre</th>\n",
              "      <th>Fun with friends</th>\n",
              "      <th>Adrenaline sports</th>\n",
              "      <th>Pets</th>\n",
              "      <th>Gender</th>\n",
              "    </tr>\n",
              "  </thead>\n",
              "  <tbody>\n",
              "    <tr>\n",
              "      <th>0</th>\n",
              "      <td>1</td>\n",
              "      <td>5</td>\n",
              "      <td>1</td>\n",
              "      <td>3</td>\n",
              "      <td>3</td>\n",
              "      <td>5</td>\n",
              "      <td>3</td>\n",
              "      <td>5</td>\n",
              "      <td>3</td>\n",
              "      <td>3</td>\n",
              "      <td>...</td>\n",
              "      <td>5</td>\n",
              "      <td>5</td>\n",
              "      <td>1</td>\n",
              "      <td>4</td>\n",
              "      <td>4</td>\n",
              "      <td>2</td>\n",
              "      <td>5</td>\n",
              "      <td>4</td>\n",
              "      <td>4</td>\n",
              "      <td>1</td>\n",
              "    </tr>\n",
              "    <tr>\n",
              "      <th>1</th>\n",
              "      <td>1</td>\n",
              "      <td>3</td>\n",
              "      <td>4</td>\n",
              "      <td>5</td>\n",
              "      <td>2</td>\n",
              "      <td>4</td>\n",
              "      <td>4</td>\n",
              "      <td>5</td>\n",
              "      <td>1</td>\n",
              "      <td>1</td>\n",
              "      <td>...</td>\n",
              "      <td>1</td>\n",
              "      <td>1</td>\n",
              "      <td>2</td>\n",
              "      <td>3</td>\n",
              "      <td>3</td>\n",
              "      <td>2</td>\n",
              "      <td>4</td>\n",
              "      <td>2</td>\n",
              "      <td>5</td>\n",
              "      <td>1</td>\n",
              "    </tr>\n",
              "    <tr>\n",
              "      <th>2</th>\n",
              "      <td>1</td>\n",
              "      <td>2</td>\n",
              "      <td>1</td>\n",
              "      <td>5</td>\n",
              "      <td>2</td>\n",
              "      <td>4</td>\n",
              "      <td>2</td>\n",
              "      <td>4</td>\n",
              "      <td>1</td>\n",
              "      <td>1</td>\n",
              "      <td>...</td>\n",
              "      <td>2</td>\n",
              "      <td>1</td>\n",
              "      <td>1</td>\n",
              "      <td>4</td>\n",
              "      <td>2</td>\n",
              "      <td>5</td>\n",
              "      <td>5</td>\n",
              "      <td>5</td>\n",
              "      <td>5</td>\n",
              "      <td>1</td>\n",
              "    </tr>\n",
              "    <tr>\n",
              "      <th>3</th>\n",
              "      <td>4</td>\n",
              "      <td>4</td>\n",
              "      <td>5</td>\n",
              "      <td>4</td>\n",
              "      <td>1</td>\n",
              "      <td>3</td>\n",
              "      <td>1</td>\n",
              "      <td>2</td>\n",
              "      <td>3</td>\n",
              "      <td>3</td>\n",
              "      <td>...</td>\n",
              "      <td>1</td>\n",
              "      <td>1</td>\n",
              "      <td>2</td>\n",
              "      <td>4</td>\n",
              "      <td>3</td>\n",
              "      <td>1</td>\n",
              "      <td>2</td>\n",
              "      <td>1</td>\n",
              "      <td>1</td>\n",
              "      <td>1</td>\n",
              "    </tr>\n",
              "    <tr>\n",
              "      <th>4</th>\n",
              "      <td>3</td>\n",
              "      <td>2</td>\n",
              "      <td>3</td>\n",
              "      <td>2</td>\n",
              "      <td>2</td>\n",
              "      <td>2</td>\n",
              "      <td>2</td>\n",
              "      <td>2</td>\n",
              "      <td>3</td>\n",
              "      <td>3</td>\n",
              "      <td>...</td>\n",
              "      <td>1</td>\n",
              "      <td>4</td>\n",
              "      <td>3</td>\n",
              "      <td>3</td>\n",
              "      <td>3</td>\n",
              "      <td>2</td>\n",
              "      <td>4</td>\n",
              "      <td>2</td>\n",
              "      <td>1</td>\n",
              "      <td>1</td>\n",
              "    </tr>\n",
              "    <tr>\n",
              "      <th>5</th>\n",
              "      <td>5</td>\n",
              "      <td>3</td>\n",
              "      <td>4</td>\n",
              "      <td>2</td>\n",
              "      <td>3</td>\n",
              "      <td>4</td>\n",
              "      <td>4</td>\n",
              "      <td>1</td>\n",
              "      <td>4</td>\n",
              "      <td>4</td>\n",
              "      <td>...</td>\n",
              "      <td>4</td>\n",
              "      <td>2</td>\n",
              "      <td>1</td>\n",
              "      <td>2</td>\n",
              "      <td>3</td>\n",
              "      <td>1</td>\n",
              "      <td>3</td>\n",
              "      <td>3</td>\n",
              "      <td>2</td>\n",
              "      <td>0</td>\n",
              "    </tr>\n",
              "    <tr>\n",
              "      <th>6</th>\n",
              "      <td>3</td>\n",
              "      <td>3</td>\n",
              "      <td>1</td>\n",
              "      <td>1</td>\n",
              "      <td>1</td>\n",
              "      <td>2</td>\n",
              "      <td>1</td>\n",
              "      <td>3</td>\n",
              "      <td>5</td>\n",
              "      <td>5</td>\n",
              "      <td>...</td>\n",
              "      <td>3</td>\n",
              "      <td>3</td>\n",
              "      <td>1</td>\n",
              "      <td>3</td>\n",
              "      <td>4</td>\n",
              "      <td>3</td>\n",
              "      <td>5</td>\n",
              "      <td>1</td>\n",
              "      <td>5</td>\n",
              "      <td>1</td>\n",
              "    </tr>\n",
              "    <tr>\n",
              "      <th>7</th>\n",
              "      <td>5</td>\n",
              "      <td>2</td>\n",
              "      <td>3</td>\n",
              "      <td>1</td>\n",
              "      <td>1</td>\n",
              "      <td>5</td>\n",
              "      <td>4</td>\n",
              "      <td>1</td>\n",
              "      <td>2</td>\n",
              "      <td>2</td>\n",
              "      <td>...</td>\n",
              "      <td>5</td>\n",
              "      <td>1</td>\n",
              "      <td>3</td>\n",
              "      <td>3</td>\n",
              "      <td>2</td>\n",
              "      <td>2</td>\n",
              "      <td>4</td>\n",
              "      <td>2</td>\n",
              "      <td>5</td>\n",
              "      <td>0</td>\n",
              "    </tr>\n",
              "    <tr>\n",
              "      <th>8</th>\n",
              "      <td>3</td>\n",
              "      <td>2</td>\n",
              "      <td>1</td>\n",
              "      <td>1</td>\n",
              "      <td>1</td>\n",
              "      <td>1</td>\n",
              "      <td>1</td>\n",
              "      <td>1</td>\n",
              "      <td>3</td>\n",
              "      <td>1</td>\n",
              "      <td>...</td>\n",
              "      <td>1</td>\n",
              "      <td>1</td>\n",
              "      <td>5</td>\n",
              "      <td>2</td>\n",
              "      <td>1</td>\n",
              "      <td>5</td>\n",
              "      <td>4</td>\n",
              "      <td>1</td>\n",
              "      <td>1</td>\n",
              "      <td>1</td>\n",
              "    </tr>\n",
              "    <tr>\n",
              "      <th>9</th>\n",
              "      <td>3</td>\n",
              "      <td>2</td>\n",
              "      <td>3</td>\n",
              "      <td>3</td>\n",
              "      <td>1</td>\n",
              "      <td>5</td>\n",
              "      <td>1</td>\n",
              "      <td>4</td>\n",
              "      <td>2</td>\n",
              "      <td>1</td>\n",
              "      <td>...</td>\n",
              "      <td>4</td>\n",
              "      <td>1</td>\n",
              "      <td>2</td>\n",
              "      <td>4</td>\n",
              "      <td>3</td>\n",
              "      <td>5</td>\n",
              "      <td>5</td>\n",
              "      <td>2</td>\n",
              "      <td>2</td>\n",
              "      <td>1</td>\n",
              "    </tr>\n",
              "  </tbody>\n",
              "</table>\n",
              "<p>10 rows × 33 columns</p>\n",
              "</div>\n",
              "      <button class=\"colab-df-convert\" onclick=\"convertToInteractive('df-915a3bda-4063-49dd-9baa-5b99bc34ab87')\"\n",
              "              title=\"Convert this dataframe to an interactive table.\"\n",
              "              style=\"display:none;\">\n",
              "        \n",
              "  <svg xmlns=\"http://www.w3.org/2000/svg\" height=\"24px\"viewBox=\"0 0 24 24\"\n",
              "       width=\"24px\">\n",
              "    <path d=\"M0 0h24v24H0V0z\" fill=\"none\"/>\n",
              "    <path d=\"M18.56 5.44l.94 2.06.94-2.06 2.06-.94-2.06-.94-.94-2.06-.94 2.06-2.06.94zm-11 1L8.5 8.5l.94-2.06 2.06-.94-2.06-.94L8.5 2.5l-.94 2.06-2.06.94zm10 10l.94 2.06.94-2.06 2.06-.94-2.06-.94-.94-2.06-.94 2.06-2.06.94z\"/><path d=\"M17.41 7.96l-1.37-1.37c-.4-.4-.92-.59-1.43-.59-.52 0-1.04.2-1.43.59L10.3 9.45l-7.72 7.72c-.78.78-.78 2.05 0 2.83L4 21.41c.39.39.9.59 1.41.59.51 0 1.02-.2 1.41-.59l7.78-7.78 2.81-2.81c.8-.78.8-2.07 0-2.86zM5.41 20L4 18.59l7.72-7.72 1.47 1.35L5.41 20z\"/>\n",
              "  </svg>\n",
              "      </button>\n",
              "      \n",
              "  <style>\n",
              "    .colab-df-container {\n",
              "      display:flex;\n",
              "      flex-wrap:wrap;\n",
              "      gap: 12px;\n",
              "    }\n",
              "\n",
              "    .colab-df-convert {\n",
              "      background-color: #E8F0FE;\n",
              "      border: none;\n",
              "      border-radius: 50%;\n",
              "      cursor: pointer;\n",
              "      display: none;\n",
              "      fill: #1967D2;\n",
              "      height: 32px;\n",
              "      padding: 0 0 0 0;\n",
              "      width: 32px;\n",
              "    }\n",
              "\n",
              "    .colab-df-convert:hover {\n",
              "      background-color: #E2EBFA;\n",
              "      box-shadow: 0px 1px 2px rgba(60, 64, 67, 0.3), 0px 1px 3px 1px rgba(60, 64, 67, 0.15);\n",
              "      fill: #174EA6;\n",
              "    }\n",
              "\n",
              "    [theme=dark] .colab-df-convert {\n",
              "      background-color: #3B4455;\n",
              "      fill: #D2E3FC;\n",
              "    }\n",
              "\n",
              "    [theme=dark] .colab-df-convert:hover {\n",
              "      background-color: #434B5C;\n",
              "      box-shadow: 0px 1px 3px 1px rgba(0, 0, 0, 0.15);\n",
              "      filter: drop-shadow(0px 1px 2px rgba(0, 0, 0, 0.3));\n",
              "      fill: #FFFFFF;\n",
              "    }\n",
              "  </style>\n",
              "\n",
              "      <script>\n",
              "        const buttonEl =\n",
              "          document.querySelector('#df-915a3bda-4063-49dd-9baa-5b99bc34ab87 button.colab-df-convert');\n",
              "        buttonEl.style.display =\n",
              "          google.colab.kernel.accessAllowed ? 'block' : 'none';\n",
              "\n",
              "        async function convertToInteractive(key) {\n",
              "          const element = document.querySelector('#df-915a3bda-4063-49dd-9baa-5b99bc34ab87');\n",
              "          const dataTable =\n",
              "            await google.colab.kernel.invokeFunction('convertToInteractive',\n",
              "                                                     [key], {});\n",
              "          if (!dataTable) return;\n",
              "\n",
              "          const docLinkHtml = 'Like what you see? Visit the ' +\n",
              "            '<a target=\"_blank\" href=https://colab.research.google.com/notebooks/data_table.ipynb>data table notebook</a>'\n",
              "            + ' to learn more about interactive tables.';\n",
              "          element.innerHTML = '';\n",
              "          dataTable['output_type'] = 'display_data';\n",
              "          await google.colab.output.renderOutput(dataTable, element);\n",
              "          const docLink = document.createElement('div');\n",
              "          docLink.innerHTML = docLinkHtml;\n",
              "          element.appendChild(docLink);\n",
              "        }\n",
              "      </script>\n",
              "    </div>\n",
              "  </div>\n",
              "  "
            ]
          },
          "metadata": {},
          "execution_count": 139
        }
      ]
    },
    {
      "cell_type": "markdown",
      "source": [
        "So let's start. \n",
        "Please choose on a scale from 1 to 5 how much do You like the next activities:"
      ],
      "metadata": {
        "id": "IPmNEVWKQtGt"
      }
    },
    {
      "cell_type": "code",
      "source": [
        "from IPython. display import clear_output\n",
        "\n",
        "def check_valid(parameter, out_list, num):\n",
        "  answer = input(f\"Question {num+1}/32 - {parameter}: \")\n",
        "  try:\n",
        "    num = int(answer)\n",
        "    if num in range(1,6):\n",
        "      out_list.append(num)\n",
        "    else:\n",
        "      raise ValueError\n",
        "  except (TypeError, ValueError):\n",
        "      print(\"Please input integer in the range from 1 to 5\")\n",
        "      check_valid(parameter, out_list, num)  \n",
        "\n",
        "def do_test():\n",
        "  columns, user_rates = list(dataset.columns[:32]), []\n",
        "  for col in columns:\n",
        "      clear_output(wait=True)\n",
        "      check_valid(col, user_rates, columns.index(col))    \n",
        "  return user_rates\n",
        "\n",
        "def question_do_test():\n",
        "  if_test = input('Do You want to take a test? (y/n):')\n",
        "  if not if_test in ('y', 'n'):\n",
        "    print('Please print one of the oprions \\'y\\' for YES or \\'n\\' for NO')\n",
        "    return question_do_test()\n",
        "  elif if_test == 'n':\n",
        "    print('Calculations will be done for developer\\'s answers')\n",
        "    user_rates = [4, 5, 4, 4, 5, 5, 5, 4, 4, 5, 4, 3, 4, 3, 2, 2, \n",
        "                  2, 3, 5, 2, 2, 3, 4, 4, 3, 2, 2, 5, 2, 5, 3, 5]\n",
        "    return user_rates\n",
        "  else:\n",
        "    return do_test()\n",
        "\n",
        "print('Please, give Your answer on the 32 following questions.\\n \\\n",
        "Rate Your interest in a given activias on the scale from 1 to 5, where:\\n \\\n",
        "1 - You are not interested in this topic at all\\n \\\n",
        "5 - You are very interested in this topic\\n')\n",
        "\n",
        "user_rates = question_do_test()\n",
        "user_data = np.reshape(np.array(user_rates), (1, 32))"
      ],
      "metadata": {
        "colab": {
          "base_uri": "https://localhost:8080/"
        },
        "id": "_ElQv7FoQsVz",
        "outputId": "22503437-0607-4513-ee14-5c9d19acba74"
      },
      "execution_count": 140,
      "outputs": [
        {
          "output_type": "stream",
          "name": "stdout",
          "text": [
            "Please, give Your answer on the 32 following questions.\n",
            " Rate Your interest in a given activias on the scale from 1 to 5, where:\n",
            " 1 - You are not interested in this topic at all\n",
            " 5 - You are very interested in this topic\n",
            "\n",
            "Do You want to take a test? (y/n):n\n",
            "Calculations will be done for developer's answers\n"
          ]
        }
      ]
    },
    {
      "cell_type": "markdown",
      "metadata": {
        "id": "uam42Z-SGeKf"
      },
      "source": [
        "# Dividing the datasheet\n",
        "\n",
        "Here I divided a dataset into two parts.\n",
        "\n",
        "All interests and hobbies I marked as x (my input) and gender as y (my output).\n",
        "\n",
        "Also, I divided all data into training data (80%) and testing data (20%).\n"
      ]
    },
    {
      "cell_type": "code",
      "metadata": {
        "id": "hCpLvAp_pAAm",
        "outputId": "e78cbfb6-1d39-403e-e4a9-1ef86bb98596",
        "colab": {
          "base_uri": "https://localhost:8080/"
        }
      },
      "source": [
        "from sklearn.model_selection import train_test_split\n",
        "\n",
        "x = dataset.iloc[:,:32].values\n",
        "y = dataset.iloc[:,32].values\n",
        "\n",
        "x_train,x_test,y_train,y_test = train_test_split(x,y,test_size = 0.2)\n",
        "\n",
        "# print info about a shape of arrays\n",
        "print(x_train.shape, 'train samples for parameters')\n",
        "print(y_train.shape, 'train samples for output - Gender \\n')\n",
        "\n",
        "print(x_test.shape, 'test samples  for parameters')\n",
        "print(y_test.shape, 'test samples for output - Gender \\n')\n",
        "\n",
        "print(user_data.shape, 'user input data')"
      ],
      "execution_count": 141,
      "outputs": [
        {
          "output_type": "stream",
          "name": "stdout",
          "text": [
            "(800, 32) train samples for parameters\n",
            "(800,) train samples for output - Gender \n",
            "\n",
            "(200, 32) test samples  for parameters\n",
            "(200,) test samples for output - Gender \n",
            "\n",
            "(1, 32) user input data\n"
          ]
        }
      ]
    },
    {
      "cell_type": "markdown",
      "metadata": {
        "id": "s63lAwe-ut_W"
      },
      "source": [
        "# Checking clustering of data\n",
        "\n",
        "I import PCA methods and project the data from 32-dimensional space into 2-dimensional in a way, that highlights the difference between the responses of different genders as clearly as possible.\n",
        "\n",
        "As we can see from this graph, even looking at the projection in 2D space, one can see that there is some visible difference between interests and hobbies, which are more statistically preferable for males and females."
      ]
    },
    {
      "cell_type": "code",
      "metadata": {
        "id": "A-KtJ12B3n1c",
        "outputId": "62e5f562-32a3-4877-e709-d4ab7eea0bf8",
        "colab": {
          "base_uri": "https://localhost:8080/",
          "height": 325
        }
      },
      "source": [
        "from sklearn.decomposition import PCA\n",
        "import matplotlib.pyplot as plt\n",
        "import matplotlib.colors\n",
        "\n",
        "plt_x = np.concatenate((x, user_data), axis=0)\n",
        "plt_y = np.concatenate((y, np.array([2])), axis=0)\n",
        "\n",
        "pca = PCA(2) \n",
        "projected = pca.fit_transform(plt_x)\n",
        "\n",
        "cmap = matplotlib.colors.LinearSegmentedColormap.from_list(\"\", [\"lightblue\", \"pink\", \"black\"], N=3)\n",
        "\n",
        "plt.scatter(projected[:, 0], projected[:, 1],\n",
        "            c=plt_y, edgecolor='none', alpha=0.8,\n",
        "            cmap=cmap)\n",
        "plt.xlabel('Component 1')\n",
        "plt.ylabel('Component 2')\n",
        "plt.title('Separation of results from the male (blue) and female (pink) results\\n\\\n",
        "and position of Your answer (black) on this spectra\\n')\n",
        "plt.colorbar();"
      ],
      "execution_count": 142,
      "outputs": [
        {
          "output_type": "display_data",
          "data": {
            "text/plain": [
              "<Figure size 432x288 with 2 Axes>"
            ],
            "image/png": "[encoded data removed]"
          },
          "metadata": {
            "needs_background": "light"
          }
        }
      ]
    },
    {
      "cell_type": "markdown",
      "metadata": {
        "id": "HcTZM-ZXuzw-"
      },
      "source": [
        "# Data overview\n",
        "\n",
        "The graphs below show a comparison of the average score for different interests and hobbies, done by men and women. As one can see, there are interests that women have marked with a higher score (Reading, Shopping, Dancing), and there are interests that are more expressed in men's answers (Science and technology, PC, Cars)."
      ]
    },
    {
      "cell_type": "code",
      "metadata": {
        "id": "-xEe2hbcKph9",
        "outputId": "5e30281d-7f01-4c80-fc29-97b74e1c35e0",
        "colab": {
          "base_uri": "https://localhost:8080/",
          "height": 879
        }
      },
      "source": [
        "import seaborn as sns\n",
        "\n",
        "main_columns = ['Reading', 'Shopping', 'Dancing', 'Theatre', 'Celebrities', \n",
        "                'Art exhibitions', 'Foreign languages', 'Pets', 'Biology',\n",
        "                'Psychology', 'Gardening', 'Medicine', 'Writing', 'Countryside and outdoors',\n",
        "                'Chemistry', 'Religion', 'Fun with friends', 'Musical instruments',\n",
        "                'Law', 'Economy Management', 'Geography', 'History', 'Internet',\n",
        "                'Passive sport', 'Mathematics', 'Politics', 'Adrenaline sports',\n",
        "                'Active sport',\t'Physics', 'Science and technology', 'PC', 'Cars']\n",
        "\n",
        "nrows, ncols = 4, 8\n",
        "fig, ax = plt.subplots(nrows=nrows, ncols=ncols, figsize=(20,15), sharex=True)\n",
        "name_id=0\n",
        "for row in range(nrows):\n",
        "    for col in range(ncols):\n",
        "        sns.barplot(y=main_columns[name_id], x='Gender', data=dataset, ax=ax[row,col], palette=['lightblue', 'pink'])\n",
        "        ax[row,col].set_ylabel('')\n",
        "        ax[row,col].set_xlabel('')\n",
        "        ax[row,col].set_title(main_columns[name_id], fontsize=12)\n",
        "        name_id += 1"
      ],
      "execution_count": 143,
      "outputs": [
        {
          "output_type": "display_data",
          "data": {
            "text/plain": [
              "<Figure size 1440x1080 with 32 Axes>"
            ],
            "image/png": "[encoded data removed]"
          },
          "metadata": {
            "needs_background": "light"
          }
        }
      ]
    },
    {
      "cell_type": "markdown",
      "metadata": {
        "id": "JiB56vDFD5P4"
      },
      "source": [
        "# Simple classifiers\n",
        "\n",
        "Before building neural networks, we can test how we can perform our task using simple classifiers like\n",
        "- GaussianNB\n",
        "- LinearDiscriminantAnalysis\n",
        "- KNeighborsClassifier\n",
        "- MLPClassifier"
      ]
    },
    {
      "cell_type": "code",
      "metadata": {
        "id": "hd6SLljWsBkl",
        "outputId": "e6ef6c78-1d13-441b-a2ba-37e63c74ca28",
        "colab": {
          "base_uri": "https://localhost:8080/"
        }
      },
      "source": [
        "from sklearn.datasets import fetch_openml\n",
        "from sklearn.neural_network import MLPClassifier\n",
        "from sklearn.model_selection import train_test_split\n",
        "from sklearn.naive_bayes import GaussianNB\n",
        "from sklearn.discriminant_analysis import LinearDiscriminantAnalysis\n",
        "from sklearn.neighbors import KNeighborsClassifier\n",
        "\n",
        "clf = GaussianNB()\n",
        "#clf = LinearDiscriminantAnalysis()\n",
        "#clf = KNeighborsClassifier(5)\n",
        "#lf =  MLPClassifier(alpha=0.05, max_iter=10000,solver='adam', random_state=1, hidden_layer_sizes=[100, 100],early_stopping=True, verbose=10, tol=0.00001)\n",
        "\n",
        "print(clf.fit(x_train, y_train))\n",
        "#print(clf.feature_importances_)  \n",
        "\n",
        "# use the model to predict the labels of the test data\n",
        "predicted = clf.predict(x_test)\n",
        "expected = y_test\n",
        "\n",
        "\n",
        "print(f\"Score train = {round(clf.score(x_train, y_train)*100, 1)}%\")\n",
        "print(f\"Score test  = {round(clf.score(x_test, y_test)*100, 1)}%\")\n",
        "\n",
        "from sklearn import metrics\n",
        "\n",
        "print('Confusion matrix:')\n",
        "print(metrics.confusion_matrix(expected, predicted))\n",
        "plt.show()"
      ],
      "execution_count": 144,
      "outputs": [
        {
          "output_type": "stream",
          "name": "stdout",
          "text": [
            "GaussianNB()\n",
            "Score train = 85.2%\n",
            "Score test  = 84.0%\n",
            "Confusion matrix:\n",
            "[[ 56  15]\n",
            " [ 17 112]]\n"
          ]
        }
      ]
    },
    {
      "cell_type": "markdown",
      "metadata": {
        "id": "jTDC5UT1OW4Q"
      },
      "source": [
        "# Building a neural network\n",
        "\n",
        "Here I build my neural network and check its structure. "
      ]
    },
    {
      "cell_type": "code",
      "metadata": {
        "id": "NH8-SOucpM7F",
        "outputId": "90d3c523-b974-482c-f2a4-7315955b1127",
        "colab": {
          "base_uri": "https://localhost:8080/"
        }
      },
      "source": [
        "import keras\n",
        "import tensorflow as tf\n",
        "from keras.models import Sequential\n",
        "from keras.layers import Dense\n",
        "from keras.layers import Dropout\n",
        "\n",
        "# Neural network\n",
        "model = Sequential()\n",
        "model.add(Dense(32, activation='relu', input_shape=(32,)))\n",
        "model.add(Dropout(0.3))\n",
        "model.add(Dense(32, activation='relu'))\n",
        "model.add(Dropout(0.3))\n",
        "model.add(Dense(2, activation='softmax'))\n",
        "\n",
        "model.compile(optimizer='adam',\n",
        "              loss='sparse_categorical_crossentropy',\n",
        "              metrics=['accuracy'])\n",
        "\n",
        "model.summary()"
      ],
      "execution_count": 145,
      "outputs": [
        {
          "output_type": "stream",
          "name": "stdout",
          "text": [
            "Model: \"sequential_1\"\n",
            "_________________________________________________________________\n",
            " Layer (type)                Output Shape              Param #   \n",
            "=================================================================\n",
            " dense_3 (Dense)             (None, 32)                1056      \n",
            "                                                                 \n",
            " dropout_2 (Dropout)         (None, 32)                0         \n",
            "                                                                 \n",
            " dense_4 (Dense)             (None, 32)                1056      \n",
            "                                                                 \n",
            " dropout_3 (Dropout)         (None, 32)                0         \n",
            "                                                                 \n",
            " dense_5 (Dense)             (None, 2)                 66        \n",
            "                                                                 \n",
            "=================================================================\n",
            "Total params: 2,178\n",
            "Trainable params: 2,178\n",
            "Non-trainable params: 0\n",
            "_________________________________________________________________\n"
          ]
        }
      ]
    },
    {
      "cell_type": "markdown",
      "metadata": {
        "id": "9Lk-sJw7QhIW"
      },
      "source": [
        "# Training a neural network"
      ]
    },
    {
      "cell_type": "code",
      "metadata": {
        "id": "6AX89Jraqeke",
        "outputId": "6bbb8f48-f6cd-4d4a-aadd-b403a42a1b45",
        "colab": {
          "base_uri": "https://localhost:8080/"
        }
      },
      "source": [
        "batch_size = 100\n",
        "epochs = 60\n",
        "\n",
        "history = model.fit(x_train, y_train,\n",
        "                    batch_size=batch_size,\n",
        "                    epochs=epochs,\n",
        "                    verbose=1,\n",
        "                    validation_data=(x_test, y_test))"
      ],
      "execution_count": 146,
      "outputs": [
        {
          "output_type": "stream",
          "name": "stdout",
          "text": [
            "Epoch 1/60\n",
            "8/8 [==============================] - 1s 27ms/step - loss: 1.6494 - accuracy: 0.4425 - val_loss: 1.0001 - val_accuracy: 0.3100\n",
            "Epoch 2/60\n",
            "8/8 [==============================] - 0s 6ms/step - loss: 1.0477 - accuracy: 0.4863 - val_loss: 0.7224 - val_accuracy: 0.5450\n",
            "Epoch 3/60\n",
            "8/8 [==============================] - 0s 7ms/step - loss: 0.8438 - accuracy: 0.5600 - val_loss: 0.6454 - val_accuracy: 0.6050\n",
            "Epoch 4/60\n",
            "8/8 [==============================] - 0s 6ms/step - loss: 0.7732 - accuracy: 0.5663 - val_loss: 0.6055 - val_accuracy: 0.6850\n",
            "Epoch 5/60\n",
            "8/8 [==============================] - 0s 8ms/step - loss: 0.6845 - accuracy: 0.6012 - val_loss: 0.5856 - val_accuracy: 0.7200\n",
            "Epoch 6/60\n",
            "8/8 [==============================] - 0s 6ms/step - loss: 0.6608 - accuracy: 0.6400 - val_loss: 0.5464 - val_accuracy: 0.7500\n",
            "Epoch 7/60\n",
            "8/8 [==============================] - 0s 5ms/step - loss: 0.6206 - accuracy: 0.6500 - val_loss: 0.5138 - val_accuracy: 0.7600\n",
            "Epoch 8/60\n",
            "8/8 [==============================] - 0s 6ms/step - loss: 0.6094 - accuracy: 0.6587 - val_loss: 0.4921 - val_accuracy: 0.7800\n",
            "Epoch 9/60\n",
            "8/8 [==============================] - 0s 5ms/step - loss: 0.5855 - accuracy: 0.6975 - val_loss: 0.4871 - val_accuracy: 0.8150\n",
            "Epoch 10/60\n",
            "8/8 [==============================] - 0s 6ms/step - loss: 0.5582 - accuracy: 0.7013 - val_loss: 0.4694 - val_accuracy: 0.8350\n",
            "Epoch 11/60\n",
            "8/8 [==============================] - 0s 6ms/step - loss: 0.5255 - accuracy: 0.7450 - val_loss: 0.4424 - val_accuracy: 0.8450\n",
            "Epoch 12/60\n",
            "8/8 [==============================] - 0s 5ms/step - loss: 0.5330 - accuracy: 0.7325 - val_loss: 0.4273 - val_accuracy: 0.8500\n",
            "Epoch 13/60\n",
            "8/8 [==============================] - 0s 6ms/step - loss: 0.5056 - accuracy: 0.7250 - val_loss: 0.4227 - val_accuracy: 0.8450\n",
            "Epoch 14/60\n",
            "8/8 [==============================] - 0s 5ms/step - loss: 0.4962 - accuracy: 0.7487 - val_loss: 0.4112 - val_accuracy: 0.8450\n",
            "Epoch 15/60\n",
            "8/8 [==============================] - 0s 5ms/step - loss: 0.4780 - accuracy: 0.7625 - val_loss: 0.4006 - val_accuracy: 0.8450\n",
            "Epoch 16/60\n",
            "8/8 [==============================] - 0s 7ms/step - loss: 0.4837 - accuracy: 0.7812 - val_loss: 0.4001 - val_accuracy: 0.8500\n",
            "Epoch 17/60\n",
            "8/8 [==============================] - 0s 5ms/step - loss: 0.4684 - accuracy: 0.7700 - val_loss: 0.3909 - val_accuracy: 0.8400\n",
            "Epoch 18/60\n",
            "8/8 [==============================] - 0s 5ms/step - loss: 0.4639 - accuracy: 0.7912 - val_loss: 0.3879 - val_accuracy: 0.8450\n",
            "Epoch 19/60\n",
            "8/8 [==============================] - 0s 5ms/step - loss: 0.4521 - accuracy: 0.7825 - val_loss: 0.3859 - val_accuracy: 0.8450\n",
            "Epoch 20/60\n",
            "8/8 [==============================] - 0s 5ms/step - loss: 0.4580 - accuracy: 0.7825 - val_loss: 0.3816 - val_accuracy: 0.8450\n",
            "Epoch 21/60\n",
            "8/8 [==============================] - 0s 6ms/step - loss: 0.4454 - accuracy: 0.8037 - val_loss: 0.3790 - val_accuracy: 0.8400\n",
            "Epoch 22/60\n",
            "8/8 [==============================] - 0s 7ms/step - loss: 0.4332 - accuracy: 0.8138 - val_loss: 0.3735 - val_accuracy: 0.8350\n",
            "Epoch 23/60\n",
            "8/8 [==============================] - 0s 5ms/step - loss: 0.4298 - accuracy: 0.8163 - val_loss: 0.3640 - val_accuracy: 0.8350\n",
            "Epoch 24/60\n",
            "8/8 [==============================] - 0s 6ms/step - loss: 0.4524 - accuracy: 0.7975 - val_loss: 0.3643 - val_accuracy: 0.8350\n",
            "Epoch 25/60\n",
            "8/8 [==============================] - 0s 6ms/step - loss: 0.4392 - accuracy: 0.8037 - val_loss: 0.3685 - val_accuracy: 0.8400\n",
            "Epoch 26/60\n",
            "8/8 [==============================] - 0s 5ms/step - loss: 0.4128 - accuracy: 0.8125 - val_loss: 0.3675 - val_accuracy: 0.8400\n",
            "Epoch 27/60\n",
            "8/8 [==============================] - 0s 8ms/step - loss: 0.4163 - accuracy: 0.8163 - val_loss: 0.3642 - val_accuracy: 0.8400\n",
            "Epoch 28/60\n",
            "8/8 [==============================] - 0s 5ms/step - loss: 0.4427 - accuracy: 0.8037 - val_loss: 0.3658 - val_accuracy: 0.8450\n",
            "Epoch 29/60\n",
            "8/8 [==============================] - 0s 6ms/step - loss: 0.4221 - accuracy: 0.8087 - val_loss: 0.3614 - val_accuracy: 0.8400\n",
            "Epoch 30/60\n",
            "8/8 [==============================] - 0s 6ms/step - loss: 0.3953 - accuracy: 0.8338 - val_loss: 0.3568 - val_accuracy: 0.8400\n",
            "Epoch 31/60\n",
            "8/8 [==============================] - 0s 6ms/step - loss: 0.4176 - accuracy: 0.8250 - val_loss: 0.3541 - val_accuracy: 0.8450\n",
            "Epoch 32/60\n",
            "8/8 [==============================] - 0s 6ms/step - loss: 0.4176 - accuracy: 0.8000 - val_loss: 0.3571 - val_accuracy: 0.8400\n",
            "Epoch 33/60\n",
            "8/8 [==============================] - 0s 6ms/step - loss: 0.3955 - accuracy: 0.8200 - val_loss: 0.3547 - val_accuracy: 0.8400\n",
            "Epoch 34/60\n",
            "8/8 [==============================] - 0s 7ms/step - loss: 0.3865 - accuracy: 0.8300 - val_loss: 0.3512 - val_accuracy: 0.8500\n",
            "Epoch 35/60\n",
            "8/8 [==============================] - 0s 6ms/step - loss: 0.4048 - accuracy: 0.8175 - val_loss: 0.3501 - val_accuracy: 0.8450\n",
            "Epoch 36/60\n",
            "8/8 [==============================] - 0s 6ms/step - loss: 0.3895 - accuracy: 0.8263 - val_loss: 0.3577 - val_accuracy: 0.8550\n",
            "Epoch 37/60\n",
            "8/8 [==============================] - 0s 7ms/step - loss: 0.4103 - accuracy: 0.8250 - val_loss: 0.3466 - val_accuracy: 0.8450\n",
            "Epoch 38/60\n",
            "8/8 [==============================] - 0s 6ms/step - loss: 0.3796 - accuracy: 0.8325 - val_loss: 0.3450 - val_accuracy: 0.8550\n",
            "Epoch 39/60\n",
            "8/8 [==============================] - 0s 6ms/step - loss: 0.4062 - accuracy: 0.8138 - val_loss: 0.3491 - val_accuracy: 0.8450\n",
            "Epoch 40/60\n",
            "8/8 [==============================] - 0s 6ms/step - loss: 0.3677 - accuracy: 0.8388 - val_loss: 0.3486 - val_accuracy: 0.8550\n",
            "Epoch 41/60\n",
            "8/8 [==============================] - 0s 6ms/step - loss: 0.3799 - accuracy: 0.8350 - val_loss: 0.3425 - val_accuracy: 0.8450\n",
            "Epoch 42/60\n",
            "8/8 [==============================] - 0s 6ms/step - loss: 0.4088 - accuracy: 0.8250 - val_loss: 0.3476 - val_accuracy: 0.8550\n",
            "Epoch 43/60\n",
            "8/8 [==============================] - 0s 5ms/step - loss: 0.3914 - accuracy: 0.8350 - val_loss: 0.3458 - val_accuracy: 0.8550\n",
            "Epoch 44/60\n",
            "8/8 [==============================] - 0s 7ms/step - loss: 0.3555 - accuracy: 0.8662 - val_loss: 0.3399 - val_accuracy: 0.8550\n",
            "Epoch 45/60\n",
            "8/8 [==============================] - 0s 5ms/step - loss: 0.3853 - accuracy: 0.8250 - val_loss: 0.3395 - val_accuracy: 0.8550\n",
            "Epoch 46/60\n",
            "8/8 [==============================] - 0s 5ms/step - loss: 0.3673 - accuracy: 0.8525 - val_loss: 0.3368 - val_accuracy: 0.8600\n",
            "Epoch 47/60\n",
            "8/8 [==============================] - 0s 6ms/step - loss: 0.3846 - accuracy: 0.8462 - val_loss: 0.3380 - val_accuracy: 0.8450\n",
            "Epoch 48/60\n",
            "8/8 [==============================] - 0s 6ms/step - loss: 0.3960 - accuracy: 0.8250 - val_loss: 0.3493 - val_accuracy: 0.8550\n",
            "Epoch 49/60\n",
            "8/8 [==============================] - 0s 6ms/step - loss: 0.3518 - accuracy: 0.8487 - val_loss: 0.3368 - val_accuracy: 0.8500\n",
            "Epoch 50/60\n",
            "8/8 [==============================] - 0s 6ms/step - loss: 0.3793 - accuracy: 0.8400 - val_loss: 0.3375 - val_accuracy: 0.8500\n",
            "Epoch 51/60\n",
            "8/8 [==============================] - 0s 5ms/step - loss: 0.3518 - accuracy: 0.8450 - val_loss: 0.3397 - val_accuracy: 0.8550\n",
            "Epoch 52/60\n",
            "8/8 [==============================] - 0s 6ms/step - loss: 0.3652 - accuracy: 0.8487 - val_loss: 0.3404 - val_accuracy: 0.8550\n",
            "Epoch 53/60\n",
            "8/8 [==============================] - 0s 5ms/step - loss: 0.3712 - accuracy: 0.8375 - val_loss: 0.3357 - val_accuracy: 0.8500\n",
            "Epoch 54/60\n",
            "8/8 [==============================] - 0s 5ms/step - loss: 0.3555 - accuracy: 0.8487 - val_loss: 0.3360 - val_accuracy: 0.8500\n",
            "Epoch 55/60\n",
            "8/8 [==============================] - 0s 6ms/step - loss: 0.3696 - accuracy: 0.8400 - val_loss: 0.3322 - val_accuracy: 0.8600\n",
            "Epoch 56/60\n",
            "8/8 [==============================] - 0s 6ms/step - loss: 0.3553 - accuracy: 0.8612 - val_loss: 0.3323 - val_accuracy: 0.8600\n",
            "Epoch 57/60\n",
            "8/8 [==============================] - 0s 6ms/step - loss: 0.3357 - accuracy: 0.8537 - val_loss: 0.3369 - val_accuracy: 0.8550\n",
            "Epoch 58/60\n",
            "8/8 [==============================] - 0s 6ms/step - loss: 0.3432 - accuracy: 0.8575 - val_loss: 0.3405 - val_accuracy: 0.8500\n",
            "Epoch 59/60\n",
            "8/8 [==============================] - 0s 7ms/step - loss: 0.3656 - accuracy: 0.8400 - val_loss: 0.3409 - val_accuracy: 0.8600\n",
            "Epoch 60/60\n",
            "8/8 [==============================] - 0s 5ms/step - loss: 0.3498 - accuracy: 0.8587 - val_loss: 0.3365 - val_accuracy: 0.8650\n"
          ]
        }
      ]
    },
    {
      "cell_type": "markdown",
      "metadata": {
        "id": "_uJVsFeFQwJ7"
      },
      "source": [
        "# Checking neural network efficiency"
      ]
    },
    {
      "cell_type": "code",
      "metadata": {
        "id": "r3Wpuu-X0yN3",
        "outputId": "3504b477-19f6-4844-afed-381dea9985ef",
        "colab": {
          "base_uri": "https://localhost:8080/",
          "height": 642
        }
      },
      "source": [
        "from sklearn import metrics\n",
        "\n",
        "# evaluate the model\n",
        "scores_train = model.evaluate(x_train, y_train, verbose=0)\n",
        "scores_test  = model.evaluate(x_test,  y_test,  verbose=0)\n",
        "\n",
        "print(f\"Accuracy Train: {round(scores_train[1]*100, 1)}%, Test: {round(scores_test[1]*100, 1)}%\") \n",
        "      \n",
        "# Confusion matrix result\n",
        "from sklearn.metrics import classification_report, confusion_matrix\n",
        "y_pred = model.predict(x_test, verbose=2)\n",
        "\n",
        "#confusion matrix\n",
        "#since y_pred has a shape(200,2) than argmax finds which output cell is bigger\n",
        "\n",
        "cm = confusion_matrix((y_test+0.5).astype(int),np.argmax(y_pred,axis=1))\n",
        "print(cm)\n",
        "\n",
        "plt.plot(history.history['val_accuracy'])\n",
        "plt.plot(history.history['accuracy'])\n",
        "plt.title('Model accuracy')\n",
        "plt.ylabel('Accuracy')\n",
        "plt.xlabel('Epoch')\n",
        "plt.legend(['Train', 'Test'], loc='upper left')\n",
        "plt.show()\n",
        "\n",
        "plt.plot(history.history['val_loss']) \n",
        "plt.plot(history.history['loss']) \n",
        "plt.title('Model loss') \n",
        "plt.ylabel('Loss') \n",
        "plt.xlabel('Epoch') \n",
        "plt.legend(['Test', 'Train'], loc='upper left') \n",
        "plt.show()"
      ],
      "execution_count": 147,
      "outputs": [
        {
          "output_type": "stream",
          "name": "stdout",
          "text": [
            "Accuracy Train: 87.9%, Test: 86.5%\n",
            "7/7 - 0s - 57ms/epoch - 8ms/step\n",
            "[[ 57  14]\n",
            " [ 13 116]]\n"
          ]
        },
        {
          "output_type": "display_data",
          "data": {
            "text/plain": [
              "<Figure size 432x288 with 1 Axes>"
            ],
            "image/png": "[encoded data removed]"
          },
          "metadata": {
            "needs_background": "light"
          }
        },
        {
          "output_type": "display_data",
          "data": {
            "text/plain": [
              "<Figure size 432x288 with 1 Axes>"
            ],
            "image/png": "[encoded data removed]"
          },
          "metadata": {
            "needs_background": "light"
          }
        }
      ]
    },
    {
      "cell_type": "code",
      "source": [
        "predictions = model.predict(user_data)\n",
        "chance = round(predictions[0][0]*100, 1)\n",
        "print(f\"Chances that You are male are {chance}%\")\n",
        "print(f\"Chances that You are female are {round(100-chance, 1)}%\\n\")\n",
        "print(f\"So my guess is that You are {['male', 'female'][float(chance)<50]}\")"
      ],
      "metadata": {
        "colab": {
          "base_uri": "https://localhost:8080/"
        },
        "id": "RniGjwqWgPew",
        "outputId": "db965e7c-7748-4c99-a581-e7112767c5b8"
      },
      "execution_count": 148,
      "outputs": [
        {
          "output_type": "stream",
          "name": "stdout",
          "text": [
            "1/1 [==============================] - 0s 21ms/step\n",
            "Chances that You are male are 86.4%\n",
            "Chances that You are female are 13.6%\n",
            "\n",
            "So my guess is that You are male\n"
          ]
        }
      ]
    },
    {
      "cell_type": "markdown",
      "metadata": {
        "id": "6JgEf7feYnk_"
      },
      "source": [
        "# Conclusion\n",
        "\n",
        "- While doing this task, I realized that I could analyze datasets and create neural networks for my needs\n",
        "- I have created and imported a dataset and analyzed it, using both simple classificators and neural network classification.\n",
        "- The efficiency of neural network classification and simple classificators are in the same range (~85%)."
      ]
    }
  ]
}